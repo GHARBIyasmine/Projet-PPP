{
  "cells": [
    {
      "cell_type": "code",
      "execution_count": null,
      "metadata": {
        "colab": {
          "base_uri": "https://localhost:8080/"
        },
        "id": "3iNRlp_sJJhf",
        "outputId": "7804013e-fc93-4676-fbaa-bd49483699eb"
      },
      "outputs": [
        {
          "output_type": "stream",
          "name": "stdout",
          "text": [
            "Drive already mounted at /content/drive; to attempt to forcibly remount, call drive.mount(\"/content/drive\", force_remount=True).\n"
          ]
        }
      ],
      "source": [
        "from google.colab import drive\n",
        "drive.mount('/content/drive')"
      ]
    },
    {
      "cell_type": "code",
      "execution_count": null,
      "metadata": {
        "id": "3KGJIYVSJS77"
      },
      "outputs": [],
      "source": [
        "import numpy as np  # for array\n",
        "import pandas as pd  # for csv files and dataframe\n",
        "import matplotlib.pyplot as plt  # for plotting\n",
        "import seaborn as sns  # plotting\n",
        "from scipy import stats\n",
        "\n",
        "import pickle  # To load data int disk\n",
        "from prettytable import PrettyTable  # To print in tabular format\n",
        "\n",
        "import warnings\n",
        "warnings.filterwarnings(\"ignore\")\n",
        "\n",
        "from sklearn.preprocessing import StandardScaler\n",
        "from sklearn.preprocessing import LabelEncoder, OneHotEncoder\n",
        "\n",
        "from sklearn.model_selection import train_test_split\n",
        "from sklearn.metrics import accuracy_score, confusion_matrix, make_scorer\n",
        "from sklearn.metrics import auc, f1_score, roc_curve\n",
        "from sklearn.model_selection import GridSearchCV, RandomizedSearchCV\n",
        "from sklearn.model_selection import cross_validate, cross_val_predict"
      ]
    },
    {
      "cell_type": "code",
      "execution_count": null,
      "metadata": {
        "id": "BCabxvqia66l"
      },
      "outputs": [],
      "source": [
        "path=\"/content/drive/MyDrive/PPP/IDS_DATASET\""
      ]
    },
    {
      "cell_type": "code",
      "execution_count": null,
      "metadata": {
        "colab": {
          "base_uri": "https://localhost:8080/"
        },
        "id": "O-fYpKRlLa5r",
        "outputId": "e0256d87-7a71-425a-aaec-0225be4bd965"
      },
      "outputs": [
        {
          "output_type": "stream",
          "name": "stdout",
          "text": [
            "{'columns': ['srcip', 'sport', 'dstip', 'dsport', 'proto', 'state', 'dur', 'sbytes', 'dbytes', 'sttl', 'dttl', 'sloss', 'dloss', 'service', 'sload', 'dload', 'spkts', 'dpkts', 'swin', 'dwin', 'stcpb', 'dtcpb', 'smeansz', 'dmeansz', 'trans_depth', 'res_bdy_len', 'sjit', 'djit', 'stime', 'ltime', 'sintpkt', 'dintpkt', 'tcprtt', 'synack', 'ackdat', 'is_sm_ips_ports', 'ct_state_ttl', 'ct_flw_http_mthd', 'is_ftp_login', 'ct_ftp_cmd', 'ct_srv_src', 'ct_srv_dst', 'ct_dst_ltm', 'ct_src_ltm', 'ct_src_dport_ltm', 'ct_dst_sport_ltm', 'ct_dst_src_ltm', 'attack_cat'], 'binary_col': ['is_sm_ips_ports', 'is_ftp_login']}\n"
          ]
        }
      ],
      "source": [
        "import pickle\n",
        "with open('/content/drive/MyDrive/PPP/IDS_DATASET/saved_dict', 'rb') as f:\n",
        "    saved_dict = pickle.load(f)\n",
        "\n",
        "print(saved_dict)"
      ]
    },
    {
      "cell_type": "code",
      "execution_count": null,
      "metadata": {
        "id": "ScI8PpNqGLLT"
      },
      "outputs": [],
      "source": [
        "train = pd.read_csv('/content/drive/MyDrive/PPP/IDS_DATASET/train_alldata_EDA.csv')"
      ]
    },
    {
      "cell_type": "code",
      "execution_count": null,
      "metadata": {
        "id": "0DvmaQp8Jdxs"
      },
      "outputs": [],
      "source": [
        "corr_matrix = train.corr().abs()"
      ]
    },
    {
      "cell_type": "code",
      "execution_count": null,
      "metadata": {
        "id": "qai1c02XJjvB"
      },
      "outputs": [],
      "source": [
        "upper = corr_matrix.where(np.triu(np.ones(corr_matrix.shape), k=1).astype(np.bool))"
      ]
    },
    {
      "cell_type": "markdown",
      "source": [
        "It checks for columns in the DataFrame upper where any correlation value is greater than 0.95. If a column has a correlation higher than 0.95 with at least one other column, it is considered highly correlated."
      ],
      "metadata": {
        "id": "g0iS8m6mkV0o"
      }
    },
    {
      "cell_type": "code",
      "execution_count": null,
      "metadata": {
        "id": "Wge2aGgUJvwf"
      },
      "outputs": [],
      "source": [
        "to_drop = [column for column in upper.columns if any(upper[column] > 0.95)]"
      ]
    },
    {
      "cell_type": "code",
      "execution_count": null,
      "metadata": {
        "colab": {
          "base_uri": "https://localhost:8080/"
        },
        "id": "sNRfGl_9YCnG",
        "outputId": "59b9c31e-2a99-4f55-fe9a-20c0dba0f765"
      },
      "outputs": [
        {
          "output_type": "execute_result",
          "data": {
            "text/plain": [
              "['sloss',\n",
              " 'dloss',\n",
              " 'dpkts',\n",
              " 'dwin',\n",
              " 'ltime',\n",
              " 'ct_srv_dst',\n",
              " 'ct_src_dport_ltm',\n",
              " 'ct_dst_src_ltm']"
            ]
          },
          "metadata": {},
          "execution_count": 78
        }
      ],
      "source": [
        "to_drop"
      ]
    },
    {
      "cell_type": "code",
      "execution_count": null,
      "metadata": {
        "id": "dFLoYWZc5cbv"
      },
      "outputs": [],
      "source": [
        "train[\"label\"].to_csv(path+\"/labeled_train.csv\",index=False)"
      ]
    },
    {
      "cell_type": "code",
      "execution_count": null,
      "metadata": {
        "id": "e-ke9FFLMWIx"
      },
      "outputs": [],
      "source": [
        "train.drop([\"label\"],axis=1, inplace=True)"
      ]
    },
    {
      "cell_type": "code",
      "execution_count": null,
      "metadata": {
        "id": "aRFnye5zL8uO"
      },
      "outputs": [],
      "source": [
        "train.drop(['srcip', 'sport', 'dstip', 'dsport'], axis=1, inplace=True)"
      ]
    },
    {
      "cell_type": "code",
      "execution_count": null,
      "metadata": {
        "id": "IrOToRL8l55n"
      },
      "outputs": [],
      "source": [
        "train_cnn=train.copy()"
      ]
    },
    {
      "cell_type": "code",
      "execution_count": null,
      "metadata": {
        "id": "xPNVWnh6KIZ0"
      },
      "outputs": [],
      "source": [
        "saved_dict['corr_col'] = to_drop"
      ]
    },
    {
      "cell_type": "code",
      "execution_count": null,
      "metadata": {
        "id": "9xP9YVT4Lu7R"
      },
      "outputs": [],
      "source": [
        "train.drop(columns=to_drop, inplace=True)"
      ]
    },
    {
      "cell_type": "code",
      "execution_count": null,
      "metadata": {
        "id": "QaVuAH86gYol"
      },
      "outputs": [],
      "source": [
        "train_cnn.drop(columns=to_drop, inplace=True)"
      ]
    },
    {
      "cell_type": "code",
      "execution_count": null,
      "metadata": {
        "colab": {
          "base_uri": "https://localhost:8080/"
        },
        "id": "t1dA5MODLyeh",
        "outputId": "54745c81-2d94-4a0e-dd67-0d615834a9f5"
      },
      "outputs": [
        {
          "output_type": "execute_result",
          "data": {
            "text/plain": [
              "(1016018, 36)"
            ]
          },
          "metadata": {},
          "execution_count": 86
        }
      ],
      "source": [
        "train.shape"
      ]
    },
    {
      "cell_type": "code",
      "execution_count": null,
      "metadata": {
        "colab": {
          "base_uri": "https://localhost:8080/"
        },
        "id": "toBEMh7nV7_S",
        "outputId": "7894cbfb-6ca5-48b9-8913-a671e6d317de"
      },
      "outputs": [
        {
          "output_type": "execute_result",
          "data": {
            "text/plain": [
              "(1016018, 36)"
            ]
          },
          "metadata": {},
          "execution_count": 87
        }
      ],
      "source": [
        "train_cnn.shape"
      ]
    },
    {
      "cell_type": "code",
      "execution_count": null,
      "metadata": {
        "id": "rttwrqyIL7ls"
      },
      "outputs": [],
      "source": [
        "train['network_bytes'] = train['sbytes'] + train['dbytes']"
      ]
    },
    {
      "cell_type": "code",
      "execution_count": null,
      "metadata": {
        "id": "l5_6pNRTgfTK"
      },
      "outputs": [],
      "source": [
        "train_cnn['network_bytes'] = train_cnn['sbytes'] + train_cnn['dbytes']"
      ]
    },
    {
      "cell_type": "code",
      "execution_count": null,
      "metadata": {
        "id": "ez8580jNMKS9"
      },
      "outputs": [],
      "source": [
        "saved_dict[\"to_drop\"]=['srcip', 'sport', 'dstip', 'dsport']"
      ]
    },
    {
      "cell_type": "code",
      "execution_count": null,
      "metadata": {
        "colab": {
          "base_uri": "https://localhost:8080/"
        },
        "id": "Xg4TTPHMMWQe",
        "outputId": "c6d14ecf-e2ca-4492-d19f-5d244c076af4"
      },
      "outputs": [
        {
          "output_type": "execute_result",
          "data": {
            "text/plain": [
              "(1016018, 37)"
            ]
          },
          "metadata": {},
          "execution_count": 91
        }
      ],
      "source": [
        "train.shape"
      ]
    },
    {
      "cell_type": "code",
      "execution_count": null,
      "metadata": {
        "colab": {
          "base_uri": "https://localhost:8080/"
        },
        "id": "u4vYAAxEWBn3",
        "outputId": "c2b1477e-f111-4396-c374-593fe6fd9291"
      },
      "outputs": [
        {
          "output_type": "execute_result",
          "data": {
            "text/plain": [
              "(1016018, 37)"
            ]
          },
          "metadata": {},
          "execution_count": 92
        }
      ],
      "source": [
        "train_cnn.shape"
      ]
    },
    {
      "cell_type": "code",
      "execution_count": null,
      "metadata": {
        "id": "tv1PRoUQOshT"
      },
      "outputs": [],
      "source": [
        "col_unique_values = train.nunique()"
      ]
    },
    {
      "cell_type": "markdown",
      "source": [
        "identify the columns in a dataset that have more than 200 unique values and apply the log1p transformation to correct their skewness"
      ],
      "metadata": {
        "id": "UvXjwh_nknqa"
      }
    },
    {
      "cell_type": "code",
      "execution_count": null,
      "metadata": {
        "id": "RKA7OUR_O3rn"
      },
      "outputs": [],
      "source": [
        "col = col_unique_values[col_unique_values>200].index"
      ]
    },
    {
      "cell_type": "code",
      "execution_count": null,
      "metadata": {
        "colab": {
          "base_uri": "https://localhost:8080/"
        },
        "id": "lGQoNFK6Rhzm",
        "outputId": "977c5426-98f3-4047-ef1b-2ce1e0350860"
      },
      "outputs": [
        {
          "output_type": "execute_result",
          "data": {
            "text/plain": [
              "Index(['dur', 'sbytes', 'dbytes', 'sload', 'dload', 'spkts', 'stcpb', 'dtcpb',\n",
              "       'smeansz', 'dmeansz', 'res_bdy_len', 'sjit', 'djit', 'stime', 'sintpkt',\n",
              "       'dintpkt', 'tcprtt', 'synack', 'ackdat', 'network_bytes'],\n",
              "      dtype='object')"
            ]
          },
          "metadata": {},
          "execution_count": 95
        }
      ],
      "source": [
        "col"
      ]
    },
    {
      "cell_type": "code",
      "execution_count": null,
      "metadata": {
        "id": "813LuHcMO-M_"
      },
      "outputs": [],
      "source": [
        "log1p_col = ['dur', 'sbytes', 'dbytes', 'sload', 'dload', 'spkts', 'stcpb', 'dtcpb', 'smeansz', 'dmeansz', 'sjit', 'djit', 'network_bytes']"
      ]
    },
    {
      "cell_type": "code",
      "execution_count": null,
      "metadata": {
        "id": "Q0UB9gy5O_t5"
      },
      "outputs": [],
      "source": [
        "saved_dict['log1p_col'] = log1p_col"
      ]
    },
    {
      "cell_type": "code",
      "execution_count": null,
      "metadata": {
        "id": "ZJu2sryxPPCE"
      },
      "outputs": [],
      "source": [
        "def log1p_transform(col, df=train):\n",
        "    new_col = col+'_log1p'\n",
        "    df[new_col] = df[col].apply(np.log1p)\n",
        "    df.drop(col, axis=1, inplace=True)"
      ]
    },
    {
      "cell_type": "code",
      "execution_count": null,
      "metadata": {
        "id": "AWMR4PRRPWRl"
      },
      "outputs": [],
      "source": [
        "for col in log1p_col:\n",
        "    log1p_transform(col, df=train)"
      ]
    },
    {
      "cell_type": "code",
      "execution_count": null,
      "metadata": {
        "id": "AOzsaAqHguYA"
      },
      "outputs": [],
      "source": [
        "for col in log1p_col:\n",
        "    log1p_transform(col, df=train_cnn)"
      ]
    },
    {
      "cell_type": "code",
      "execution_count": null,
      "metadata": {
        "colab": {
          "base_uri": "https://localhost:8080/"
        },
        "id": "KO4KtziyPXPk",
        "outputId": "aece5b18-a6e7-435a-a1e1-733c2a03ab29"
      },
      "outputs": [
        {
          "output_type": "execute_result",
          "data": {
            "text/plain": [
              "(1016018, 37)"
            ]
          },
          "metadata": {},
          "execution_count": 101
        }
      ],
      "source": [
        "train.shape"
      ]
    },
    {
      "cell_type": "code",
      "execution_count": null,
      "metadata": {
        "colab": {
          "base_uri": "https://localhost:8080/"
        },
        "id": "khfSY1HWWLjI",
        "outputId": "008648d9-6813-448c-f404-d714d8b9a243"
      },
      "outputs": [
        {
          "output_type": "execute_result",
          "data": {
            "text/plain": [
              "(1016018, 37)"
            ]
          },
          "metadata": {},
          "execution_count": 102
        }
      ],
      "source": [
        "train_cnn.shape"
      ]
    },
    {
      "cell_type": "code",
      "execution_count": null,
      "metadata": {
        "colab": {
          "base_uri": "https://localhost:8080/"
        },
        "id": "nbYgcexfZt3G",
        "outputId": "3d4a82c4-e18f-4ad8-a509-9a4fa2c5c432"
      },
      "outputs": [
        {
          "output_type": "execute_result",
          "data": {
            "text/plain": [
              "Index(['proto', 'state', 'sttl', 'dttl', 'service', 'swin', 'trans_depth',\n",
              "       'res_bdy_len', 'stime', 'sintpkt', 'dintpkt', 'tcprtt', 'synack',\n",
              "       'ackdat', 'is_sm_ips_ports', 'ct_state_ttl', 'ct_flw_http_mthd',\n",
              "       'is_ftp_login', 'ct_ftp_cmd', 'ct_srv_src', 'ct_dst_ltm', 'ct_src_ltm',\n",
              "       'ct_dst_sport_ltm', 'attack_cat', 'dur_log1p', 'sbytes_log1p',\n",
              "       'dbytes_log1p', 'sload_log1p', 'dload_log1p', 'spkts_log1p',\n",
              "       'stcpb_log1p', 'dtcpb_log1p', 'smeansz_log1p', 'dmeansz_log1p',\n",
              "       'sjit_log1p', 'djit_log1p', 'network_bytes_log1p'],\n",
              "      dtype='object')"
            ]
          },
          "metadata": {},
          "execution_count": 103
        }
      ],
      "source": [
        "train.columns"
      ]
    },
    {
      "cell_type": "code",
      "execution_count": null,
      "metadata": {
        "id": "2Iys0BeDZWeW"
      },
      "outputs": [],
      "source": [
        "attack_encoder=LabelEncoder()"
      ]
    },
    {
      "cell_type": "code",
      "execution_count": null,
      "metadata": {
        "id": "F6aJXfVgX8f-"
      },
      "outputs": [],
      "source": [
        "train_cnn = train_cnn[train_cnn['attack_cat'] != 'normal']"
      ]
    },
    {
      "cell_type": "code",
      "execution_count": null,
      "metadata": {
        "id": "wcZZgLgzeAYS"
      },
      "outputs": [],
      "source": [
        "train_cnn = train_cnn.drop(train_cnn[train_cnn['attack_cat'] == 'normal'].index)"
      ]
    },
    {
      "cell_type": "code",
      "execution_count": null,
      "metadata": {
        "id": "kBINPcPCedWx"
      },
      "outputs": [],
      "source": [
        "train_cnn = train_cnn.reset_index(drop=True)"
      ]
    },
    {
      "cell_type": "code",
      "execution_count": null,
      "metadata": {
        "colab": {
          "base_uri": "https://localhost:8080/"
        },
        "id": "28EOF8dzYtmT",
        "outputId": "7b386eec-d0f8-4745-aa9f-f63c05a4ffd5"
      },
      "outputs": [
        {
          "output_type": "execute_result",
          "data": {
            "text/plain": [
              "0                generic\n",
              "1                generic\n",
              "2                generic\n",
              "3               exploits\n",
              "4               exploits\n",
              "               ...      \n",
              "128311           generic\n",
              "128312    reconnaissance\n",
              "128313           generic\n",
              "128314           fuzzers\n",
              "128315           fuzzers\n",
              "Name: attack_cat, Length: 128316, dtype: object"
            ]
          },
          "metadata": {},
          "execution_count": 108
        }
      ],
      "source": [
        "train_cnn[\"attack_cat\"]"
      ]
    },
    {
      "cell_type": "code",
      "execution_count": null,
      "metadata": {
        "id": "vQh7u_7nYnRh"
      },
      "outputs": [],
      "source": [
        "replacement_mapping = {\n",
        "    \"shellcode\": \"other\",\n",
        "    \"backdoor\": \"other\",\n",
        "    \"analysis\": \"other\",\n",
        "    \"dos\": \"other\",\n",
        "    \"worms\": \"other\"\n",
        "}\n",
        "train_cnn[\"attack_cat\"] = train_cnn[\"attack_cat\"].replace(replacement_mapping)"
      ]
    },
    {
      "cell_type": "code",
      "execution_count": null,
      "metadata": {
        "id": "EK6vOM5_PjgD"
      },
      "outputs": [],
      "source": [
        "x_train= train.drop(columns=['attack_cat'])\n",
        "x_train_cnn,y_train_cnn=train_cnn.drop(columns=['attack_cat']), attack_encoder.fit_transform(train_cnn['attack_cat'])"
      ]
    },
    {
      "cell_type": "code",
      "execution_count": null,
      "metadata": {
        "colab": {
          "base_uri": "https://localhost:8080/"
        },
        "id": "hWdJ1l0QarbN",
        "outputId": "1f174e62-f08e-44e1-e998-4816b16deaf8"
      },
      "outputs": [
        {
          "output_type": "stream",
          "name": "stdout",
          "text": [
            "(1016018, 36)\n"
          ]
        }
      ],
      "source": [
        "print(x_train.shape)"
      ]
    },
    {
      "cell_type": "code",
      "execution_count": null,
      "metadata": {
        "colab": {
          "base_uri": "https://localhost:8080/"
        },
        "id": "bG_7Pc-NaMC5",
        "outputId": "33aad7b1-086e-4a1a-8c3f-fb6fbec9ac17"
      },
      "outputs": [
        {
          "output_type": "stream",
          "name": "stdout",
          "text": [
            "(128316, 36)\n"
          ]
        }
      ],
      "source": [
        "print(x_train_cnn.shape)"
      ]
    },
    {
      "cell_type": "code",
      "execution_count": null,
      "metadata": {
        "id": "tFIJPpH6bO44"
      },
      "outputs": [],
      "source": [
        "cat_col = ['proto', 'service', 'state']\n",
        "num_col = list(set(x_train.columns) - set(cat_col))"
      ]
    },
    {
      "cell_type": "code",
      "execution_count": null,
      "metadata": {
        "id": "3GM3hV7-bV67"
      },
      "outputs": [],
      "source": [
        "saved_dict['cat_col'] = cat_col\n",
        "saved_dict['num_col'] = num_col"
      ]
    },
    {
      "cell_type": "code",
      "execution_count": null,
      "metadata": {
        "colab": {
          "base_uri": "https://localhost:8080/",
          "height": 300
        },
        "id": "st3B-LwSbYcL",
        "outputId": "2f525360-b563-4445-b1f5-0658eb2ebf56"
      },
      "outputs": [
        {
          "output_type": "execute_result",
          "data": {
            "text/plain": [
              "  proto state  sttl  dttl service  swin  trans_depth  res_bdy_len       stime  \\\n",
              "0   udp   CON    31    29     Non     0            0            0  1424224514   \n",
              "1   udp   CON    31    29     Non     0            0            0  1424238737   \n",
              "2   udp   CON    31    29     dns     0            0            0  1424228072   \n",
              "3   udp   INT   254     0     dns     0            0            0  1421932012   \n",
              "4   udp   INT   254     0     dns     0            0            0  1424238347   \n",
              "\n",
              "    sintpkt  ...  sload_log1p  dload_log1p  spkts_log1p  stcpb_log1p  \\\n",
              "0  1.219333  ...    13.498340    12.899222     1.609438          0.0   \n",
              "1  0.402667  ...    14.519448    13.967380     1.609438          0.0   \n",
              "2  0.009000  ...    13.265729    13.463906     1.098612          0.0   \n",
              "3  0.010000  ...    17.635418     0.000000     1.098612          0.0   \n",
              "4  0.005000  ...    18.328565     0.000000     1.098612          0.0   \n",
              "\n",
              "   dtcpb_log1p  smeansz_log1p  dmeansz_log1p  sjit_log1p  djit_log1p  \\\n",
              "0          0.0       4.962845       4.369448    0.998607    0.897450   \n",
              "1          0.0       4.890349       4.343805    0.447570    0.243181   \n",
              "2          0.0       4.304065       4.499810    0.000000    0.000000   \n",
              "3          0.0       4.060443       0.000000    0.000000    0.000000   \n",
              "4          0.0       4.060443       0.000000    0.000000    0.000000   \n",
              "\n",
              "   network_bytes_log1p  \n",
              "0             6.781058  \n",
              "1             6.725034  \n",
              "2             5.783825  \n",
              "3             4.744932  \n",
              "4             4.744932  \n",
              "\n",
              "[5 rows x 36 columns]"
            ],
            "text/html": [
              "\n",
              "  <div id=\"df-0c83bc0d-00cc-4b30-9890-145ad699db96\">\n",
              "    <div class=\"colab-df-container\">\n",
              "      <div>\n",
              "<style scoped>\n",
              "    .dataframe tbody tr th:only-of-type {\n",
              "        vertical-align: middle;\n",
              "    }\n",
              "\n",
              "    .dataframe tbody tr th {\n",
              "        vertical-align: top;\n",
              "    }\n",
              "\n",
              "    .dataframe thead th {\n",
              "        text-align: right;\n",
              "    }\n",
              "</style>\n",
              "<table border=\"1\" class=\"dataframe\">\n",
              "  <thead>\n",
              "    <tr style=\"text-align: right;\">\n",
              "      <th></th>\n",
              "      <th>proto</th>\n",
              "      <th>state</th>\n",
              "      <th>sttl</th>\n",
              "      <th>dttl</th>\n",
              "      <th>service</th>\n",
              "      <th>swin</th>\n",
              "      <th>trans_depth</th>\n",
              "      <th>res_bdy_len</th>\n",
              "      <th>stime</th>\n",
              "      <th>sintpkt</th>\n",
              "      <th>...</th>\n",
              "      <th>sload_log1p</th>\n",
              "      <th>dload_log1p</th>\n",
              "      <th>spkts_log1p</th>\n",
              "      <th>stcpb_log1p</th>\n",
              "      <th>dtcpb_log1p</th>\n",
              "      <th>smeansz_log1p</th>\n",
              "      <th>dmeansz_log1p</th>\n",
              "      <th>sjit_log1p</th>\n",
              "      <th>djit_log1p</th>\n",
              "      <th>network_bytes_log1p</th>\n",
              "    </tr>\n",
              "  </thead>\n",
              "  <tbody>\n",
              "    <tr>\n",
              "      <th>0</th>\n",
              "      <td>udp</td>\n",
              "      <td>CON</td>\n",
              "      <td>31</td>\n",
              "      <td>29</td>\n",
              "      <td>Non</td>\n",
              "      <td>0</td>\n",
              "      <td>0</td>\n",
              "      <td>0</td>\n",
              "      <td>1424224514</td>\n",
              "      <td>1.219333</td>\n",
              "      <td>...</td>\n",
              "      <td>13.498340</td>\n",
              "      <td>12.899222</td>\n",
              "      <td>1.609438</td>\n",
              "      <td>0.0</td>\n",
              "      <td>0.0</td>\n",
              "      <td>4.962845</td>\n",
              "      <td>4.369448</td>\n",
              "      <td>0.998607</td>\n",
              "      <td>0.897450</td>\n",
              "      <td>6.781058</td>\n",
              "    </tr>\n",
              "    <tr>\n",
              "      <th>1</th>\n",
              "      <td>udp</td>\n",
              "      <td>CON</td>\n",
              "      <td>31</td>\n",
              "      <td>29</td>\n",
              "      <td>Non</td>\n",
              "      <td>0</td>\n",
              "      <td>0</td>\n",
              "      <td>0</td>\n",
              "      <td>1424238737</td>\n",
              "      <td>0.402667</td>\n",
              "      <td>...</td>\n",
              "      <td>14.519448</td>\n",
              "      <td>13.967380</td>\n",
              "      <td>1.609438</td>\n",
              "      <td>0.0</td>\n",
              "      <td>0.0</td>\n",
              "      <td>4.890349</td>\n",
              "      <td>4.343805</td>\n",
              "      <td>0.447570</td>\n",
              "      <td>0.243181</td>\n",
              "      <td>6.725034</td>\n",
              "    </tr>\n",
              "    <tr>\n",
              "      <th>2</th>\n",
              "      <td>udp</td>\n",
              "      <td>CON</td>\n",
              "      <td>31</td>\n",
              "      <td>29</td>\n",
              "      <td>dns</td>\n",
              "      <td>0</td>\n",
              "      <td>0</td>\n",
              "      <td>0</td>\n",
              "      <td>1424228072</td>\n",
              "      <td>0.009000</td>\n",
              "      <td>...</td>\n",
              "      <td>13.265729</td>\n",
              "      <td>13.463906</td>\n",
              "      <td>1.098612</td>\n",
              "      <td>0.0</td>\n",
              "      <td>0.0</td>\n",
              "      <td>4.304065</td>\n",
              "      <td>4.499810</td>\n",
              "      <td>0.000000</td>\n",
              "      <td>0.000000</td>\n",
              "      <td>5.783825</td>\n",
              "    </tr>\n",
              "    <tr>\n",
              "      <th>3</th>\n",
              "      <td>udp</td>\n",
              "      <td>INT</td>\n",
              "      <td>254</td>\n",
              "      <td>0</td>\n",
              "      <td>dns</td>\n",
              "      <td>0</td>\n",
              "      <td>0</td>\n",
              "      <td>0</td>\n",
              "      <td>1421932012</td>\n",
              "      <td>0.010000</td>\n",
              "      <td>...</td>\n",
              "      <td>17.635418</td>\n",
              "      <td>0.000000</td>\n",
              "      <td>1.098612</td>\n",
              "      <td>0.0</td>\n",
              "      <td>0.0</td>\n",
              "      <td>4.060443</td>\n",
              "      <td>0.000000</td>\n",
              "      <td>0.000000</td>\n",
              "      <td>0.000000</td>\n",
              "      <td>4.744932</td>\n",
              "    </tr>\n",
              "    <tr>\n",
              "      <th>4</th>\n",
              "      <td>udp</td>\n",
              "      <td>INT</td>\n",
              "      <td>254</td>\n",
              "      <td>0</td>\n",
              "      <td>dns</td>\n",
              "      <td>0</td>\n",
              "      <td>0</td>\n",
              "      <td>0</td>\n",
              "      <td>1424238347</td>\n",
              "      <td>0.005000</td>\n",
              "      <td>...</td>\n",
              "      <td>18.328565</td>\n",
              "      <td>0.000000</td>\n",
              "      <td>1.098612</td>\n",
              "      <td>0.0</td>\n",
              "      <td>0.0</td>\n",
              "      <td>4.060443</td>\n",
              "      <td>0.000000</td>\n",
              "      <td>0.000000</td>\n",
              "      <td>0.000000</td>\n",
              "      <td>4.744932</td>\n",
              "    </tr>\n",
              "  </tbody>\n",
              "</table>\n",
              "<p>5 rows × 36 columns</p>\n",
              "</div>\n",
              "      <button class=\"colab-df-convert\" onclick=\"convertToInteractive('df-0c83bc0d-00cc-4b30-9890-145ad699db96')\"\n",
              "              title=\"Convert this dataframe to an interactive table.\"\n",
              "              style=\"display:none;\">\n",
              "        \n",
              "  <svg xmlns=\"http://www.w3.org/2000/svg\" height=\"24px\"viewBox=\"0 0 24 24\"\n",
              "       width=\"24px\">\n",
              "    <path d=\"M0 0h24v24H0V0z\" fill=\"none\"/>\n",
              "    <path d=\"M18.56 5.44l.94 2.06.94-2.06 2.06-.94-2.06-.94-.94-2.06-.94 2.06-2.06.94zm-11 1L8.5 8.5l.94-2.06 2.06-.94-2.06-.94L8.5 2.5l-.94 2.06-2.06.94zm10 10l.94 2.06.94-2.06 2.06-.94-2.06-.94-.94-2.06-.94 2.06-2.06.94z\"/><path d=\"M17.41 7.96l-1.37-1.37c-.4-.4-.92-.59-1.43-.59-.52 0-1.04.2-1.43.59L10.3 9.45l-7.72 7.72c-.78.78-.78 2.05 0 2.83L4 21.41c.39.39.9.59 1.41.59.51 0 1.02-.2 1.41-.59l7.78-7.78 2.81-2.81c.8-.78.8-2.07 0-2.86zM5.41 20L4 18.59l7.72-7.72 1.47 1.35L5.41 20z\"/>\n",
              "  </svg>\n",
              "      </button>\n",
              "      \n",
              "  <style>\n",
              "    .colab-df-container {\n",
              "      display:flex;\n",
              "      flex-wrap:wrap;\n",
              "      gap: 12px;\n",
              "    }\n",
              "\n",
              "    .colab-df-convert {\n",
              "      background-color: #E8F0FE;\n",
              "      border: none;\n",
              "      border-radius: 50%;\n",
              "      cursor: pointer;\n",
              "      display: none;\n",
              "      fill: #1967D2;\n",
              "      height: 32px;\n",
              "      padding: 0 0 0 0;\n",
              "      width: 32px;\n",
              "    }\n",
              "\n",
              "    .colab-df-convert:hover {\n",
              "      background-color: #E2EBFA;\n",
              "      box-shadow: 0px 1px 2px rgba(60, 64, 67, 0.3), 0px 1px 3px 1px rgba(60, 64, 67, 0.15);\n",
              "      fill: #174EA6;\n",
              "    }\n",
              "\n",
              "    [theme=dark] .colab-df-convert {\n",
              "      background-color: #3B4455;\n",
              "      fill: #D2E3FC;\n",
              "    }\n",
              "\n",
              "    [theme=dark] .colab-df-convert:hover {\n",
              "      background-color: #434B5C;\n",
              "      box-shadow: 0px 1px 3px 1px rgba(0, 0, 0, 0.15);\n",
              "      filter: drop-shadow(0px 1px 2px rgba(0, 0, 0, 0.3));\n",
              "      fill: #FFFFFF;\n",
              "    }\n",
              "  </style>\n",
              "\n",
              "      <script>\n",
              "        const buttonEl =\n",
              "          document.querySelector('#df-0c83bc0d-00cc-4b30-9890-145ad699db96 button.colab-df-convert');\n",
              "        buttonEl.style.display =\n",
              "          google.colab.kernel.accessAllowed ? 'block' : 'none';\n",
              "\n",
              "        async function convertToInteractive(key) {\n",
              "          const element = document.querySelector('#df-0c83bc0d-00cc-4b30-9890-145ad699db96');\n",
              "          const dataTable =\n",
              "            await google.colab.kernel.invokeFunction('convertToInteractive',\n",
              "                                                     [key], {});\n",
              "          if (!dataTable) return;\n",
              "\n",
              "          const docLinkHtml = 'Like what you see? Visit the ' +\n",
              "            '<a target=\"_blank\" href=https://colab.research.google.com/notebooks/data_table.ipynb>data table notebook</a>'\n",
              "            + ' to learn more about interactive tables.';\n",
              "          element.innerHTML = '';\n",
              "          dataTable['output_type'] = 'display_data';\n",
              "          await google.colab.output.renderOutput(dataTable, element);\n",
              "          const docLink = document.createElement('div');\n",
              "          docLink.innerHTML = docLinkHtml;\n",
              "          element.appendChild(docLink);\n",
              "        }\n",
              "      </script>\n",
              "    </div>\n",
              "  </div>\n",
              "  "
            ]
          },
          "metadata": {},
          "execution_count": 115
        }
      ],
      "source": [
        "x_train.head()"
      ]
    },
    {
      "cell_type": "markdown",
      "source": [
        "Applying Standard Scler on x_train and x_train_cnn"
      ],
      "metadata": {
        "id": "jINet7-fl2VG"
      }
    },
    {
      "cell_type": "code",
      "execution_count": null,
      "metadata": {
        "id": "0Cnr9jO0bfyL"
      },
      "outputs": [],
      "source": [
        "scaler = StandardScaler()\n",
        "scaler = scaler.fit(x_train[num_col])"
      ]
    },
    {
      "cell_type": "code",
      "execution_count": null,
      "metadata": {
        "id": "qMkFsuTiqn-f"
      },
      "outputs": [],
      "source": [
        "x_train[num_col]=scaler.transform(x_train[num_col])"
      ]
    },
    {
      "cell_type": "code",
      "execution_count": null,
      "metadata": {
        "colab": {
          "base_uri": "https://localhost:8080/",
          "height": 488
        },
        "id": "OShLEchobl3T",
        "outputId": "325c17d2-6011-44af-d1f6-e27633409803"
      },
      "outputs": [
        {
          "output_type": "execute_result",
          "data": {
            "text/plain": [
              "        proto state      sttl      dttl   service      swin  trans_depth  \\\n",
              "0         udp   CON -0.425227 -0.040901       Non -1.196443    -0.198505   \n",
              "1         udp   CON -0.425227 -0.040901       Non -1.196443    -0.198505   \n",
              "2         udp   CON -0.425227 -0.040901       dns -1.196443    -0.198505   \n",
              "3         udp   INT  2.567365 -0.718852       dns -1.196443    -0.198505   \n",
              "4         udp   INT  2.567365 -0.718852       dns -1.196443    -0.198505   \n",
              "...       ...   ...       ...       ...       ...       ...          ...   \n",
              "1016013   udp   CON -0.425227 -0.040901       Non -1.196443    -0.198505   \n",
              "1016014   udp   CON -0.425227 -0.040901       Non -1.196443    -0.198505   \n",
              "1016015   udp   CON -0.425227 -0.040901       dns -1.196443    -0.198505   \n",
              "1016016   tcp   FIN -0.425227 -0.040901       Non  0.835819    -0.198505   \n",
              "1016017   tcp   FIN -0.425227 -0.040901  ftp-data  0.835819    -0.198505   \n",
              "\n",
              "         res_bdy_len     stime   sintpkt  ...  sload_log1p  dload_log1p  \\\n",
              "0          -0.089491  0.850317 -0.069062  ...    -0.039364     0.387033   \n",
              "1          -0.089491  0.862853 -0.069356  ...     0.285788     0.574959   \n",
              "2          -0.089491  0.853453 -0.069497  ...    -0.113435     0.486380   \n",
              "3          -0.089491 -1.170238 -0.069497  ...     1.278009    -1.882381   \n",
              "4          -0.089491  0.862509 -0.069499  ...     1.498729    -1.882381   \n",
              "...              ...       ...       ...  ...          ...          ...   \n",
              "1016013    -0.089491  0.861607 -0.069053  ...    -0.034289     0.389837   \n",
              "1016014    -0.089491  0.876051 -0.023728  ...    -1.453633    -0.389886   \n",
              "1016015    -0.089491 -1.170987 -0.069500  ...    -0.161222     0.463828   \n",
              "1016016    -0.089491 -1.170988 -0.069403  ...     0.623347     0.781828   \n",
              "1016017    -0.089491  0.872081 -0.020256  ...    -1.775920    -0.135183   \n",
              "\n",
              "         spkts_log1p  stcpb_log1p  dtcpb_log1p  smeansz_log1p  dmeansz_log1p  \\\n",
              "0          -0.705200    -1.190417    -1.190141       0.683803       0.038839   \n",
              "1          -0.705200    -1.190417    -1.190141       0.567345       0.027738   \n",
              "2          -1.081013    -1.190417    -1.190141      -0.374472       0.095278   \n",
              "3          -1.081013    -1.190417    -1.190141      -0.765831      -1.852846   \n",
              "4          -1.081013    -1.190417    -1.190141      -0.765831      -1.852846   \n",
              "...              ...          ...          ...            ...            ...   \n",
              "1016013    -0.705200    -1.190417    -1.190141       0.683803       0.038839   \n",
              "1016014    -0.705200    -1.190417    -1.190141       0.683803       0.049663   \n",
              "1016015    -1.081013    -1.190417    -1.190141      -0.558263       0.054975   \n",
              "1016016     0.276956     0.924729     0.851938       1.316317       0.277184   \n",
              "1016017    -0.457659     0.886331     0.812721      -0.880624       0.542750   \n",
              "\n",
              "         sjit_log1p  djit_log1p  network_bytes_log1p  \n",
              "0         -0.686958   -0.581499            -0.548926  \n",
              "1         -0.857449   -0.813872            -0.572888  \n",
              "2         -0.995927   -0.900241            -0.975452  \n",
              "3         -0.995927   -0.900241            -1.419796  \n",
              "4         -0.995927   -0.900241            -1.419796  \n",
              "...             ...         ...                  ...  \n",
              "1016013   -0.682425   -0.574940            -0.548926  \n",
              "1016014    0.612619    0.908240            -0.545060  \n",
              "1016015   -0.995927   -0.900241            -1.019785  \n",
              "1016016   -0.171061   -0.797324             0.289554  \n",
              "1016017    1.843607    1.046743            -0.132401  \n",
              "\n",
              "[1016018 rows x 36 columns]"
            ],
            "text/html": [
              "\n",
              "  <div id=\"df-77cdb637-7b43-4a7a-8c16-e7338b999253\">\n",
              "    <div class=\"colab-df-container\">\n",
              "      <div>\n",
              "<style scoped>\n",
              "    .dataframe tbody tr th:only-of-type {\n",
              "        vertical-align: middle;\n",
              "    }\n",
              "\n",
              "    .dataframe tbody tr th {\n",
              "        vertical-align: top;\n",
              "    }\n",
              "\n",
              "    .dataframe thead th {\n",
              "        text-align: right;\n",
              "    }\n",
              "</style>\n",
              "<table border=\"1\" class=\"dataframe\">\n",
              "  <thead>\n",
              "    <tr style=\"text-align: right;\">\n",
              "      <th></th>\n",
              "      <th>proto</th>\n",
              "      <th>state</th>\n",
              "      <th>sttl</th>\n",
              "      <th>dttl</th>\n",
              "      <th>service</th>\n",
              "      <th>swin</th>\n",
              "      <th>trans_depth</th>\n",
              "      <th>res_bdy_len</th>\n",
              "      <th>stime</th>\n",
              "      <th>sintpkt</th>\n",
              "      <th>...</th>\n",
              "      <th>sload_log1p</th>\n",
              "      <th>dload_log1p</th>\n",
              "      <th>spkts_log1p</th>\n",
              "      <th>stcpb_log1p</th>\n",
              "      <th>dtcpb_log1p</th>\n",
              "      <th>smeansz_log1p</th>\n",
              "      <th>dmeansz_log1p</th>\n",
              "      <th>sjit_log1p</th>\n",
              "      <th>djit_log1p</th>\n",
              "      <th>network_bytes_log1p</th>\n",
              "    </tr>\n",
              "  </thead>\n",
              "  <tbody>\n",
              "    <tr>\n",
              "      <th>0</th>\n",
              "      <td>udp</td>\n",
              "      <td>CON</td>\n",
              "      <td>-0.425227</td>\n",
              "      <td>-0.040901</td>\n",
              "      <td>Non</td>\n",
              "      <td>-1.196443</td>\n",
              "      <td>-0.198505</td>\n",
              "      <td>-0.089491</td>\n",
              "      <td>0.850317</td>\n",
              "      <td>-0.069062</td>\n",
              "      <td>...</td>\n",
              "      <td>-0.039364</td>\n",
              "      <td>0.387033</td>\n",
              "      <td>-0.705200</td>\n",
              "      <td>-1.190417</td>\n",
              "      <td>-1.190141</td>\n",
              "      <td>0.683803</td>\n",
              "      <td>0.038839</td>\n",
              "      <td>-0.686958</td>\n",
              "      <td>-0.581499</td>\n",
              "      <td>-0.548926</td>\n",
              "    </tr>\n",
              "    <tr>\n",
              "      <th>1</th>\n",
              "      <td>udp</td>\n",
              "      <td>CON</td>\n",
              "      <td>-0.425227</td>\n",
              "      <td>-0.040901</td>\n",
              "      <td>Non</td>\n",
              "      <td>-1.196443</td>\n",
              "      <td>-0.198505</td>\n",
              "      <td>-0.089491</td>\n",
              "      <td>0.862853</td>\n",
              "      <td>-0.069356</td>\n",
              "      <td>...</td>\n",
              "      <td>0.285788</td>\n",
              "      <td>0.574959</td>\n",
              "      <td>-0.705200</td>\n",
              "      <td>-1.190417</td>\n",
              "      <td>-1.190141</td>\n",
              "      <td>0.567345</td>\n",
              "      <td>0.027738</td>\n",
              "      <td>-0.857449</td>\n",
              "      <td>-0.813872</td>\n",
              "      <td>-0.572888</td>\n",
              "    </tr>\n",
              "    <tr>\n",
              "      <th>2</th>\n",
              "      <td>udp</td>\n",
              "      <td>CON</td>\n",
              "      <td>-0.425227</td>\n",
              "      <td>-0.040901</td>\n",
              "      <td>dns</td>\n",
              "      <td>-1.196443</td>\n",
              "      <td>-0.198505</td>\n",
              "      <td>-0.089491</td>\n",
              "      <td>0.853453</td>\n",
              "      <td>-0.069497</td>\n",
              "      <td>...</td>\n",
              "      <td>-0.113435</td>\n",
              "      <td>0.486380</td>\n",
              "      <td>-1.081013</td>\n",
              "      <td>-1.190417</td>\n",
              "      <td>-1.190141</td>\n",
              "      <td>-0.374472</td>\n",
              "      <td>0.095278</td>\n",
              "      <td>-0.995927</td>\n",
              "      <td>-0.900241</td>\n",
              "      <td>-0.975452</td>\n",
              "    </tr>\n",
              "    <tr>\n",
              "      <th>3</th>\n",
              "      <td>udp</td>\n",
              "      <td>INT</td>\n",
              "      <td>2.567365</td>\n",
              "      <td>-0.718852</td>\n",
              "      <td>dns</td>\n",
              "      <td>-1.196443</td>\n",
              "      <td>-0.198505</td>\n",
              "      <td>-0.089491</td>\n",
              "      <td>-1.170238</td>\n",
              "      <td>-0.069497</td>\n",
              "      <td>...</td>\n",
              "      <td>1.278009</td>\n",
              "      <td>-1.882381</td>\n",
              "      <td>-1.081013</td>\n",
              "      <td>-1.190417</td>\n",
              "      <td>-1.190141</td>\n",
              "      <td>-0.765831</td>\n",
              "      <td>-1.852846</td>\n",
              "      <td>-0.995927</td>\n",
              "      <td>-0.900241</td>\n",
              "      <td>-1.419796</td>\n",
              "    </tr>\n",
              "    <tr>\n",
              "      <th>4</th>\n",
              "      <td>udp</td>\n",
              "      <td>INT</td>\n",
              "      <td>2.567365</td>\n",
              "      <td>-0.718852</td>\n",
              "      <td>dns</td>\n",
              "      <td>-1.196443</td>\n",
              "      <td>-0.198505</td>\n",
              "      <td>-0.089491</td>\n",
              "      <td>0.862509</td>\n",
              "      <td>-0.069499</td>\n",
              "      <td>...</td>\n",
              "      <td>1.498729</td>\n",
              "      <td>-1.882381</td>\n",
              "      <td>-1.081013</td>\n",
              "      <td>-1.190417</td>\n",
              "      <td>-1.190141</td>\n",
              "      <td>-0.765831</td>\n",
              "      <td>-1.852846</td>\n",
              "      <td>-0.995927</td>\n",
              "      <td>-0.900241</td>\n",
              "      <td>-1.419796</td>\n",
              "    </tr>\n",
              "    <tr>\n",
              "      <th>...</th>\n",
              "      <td>...</td>\n",
              "      <td>...</td>\n",
              "      <td>...</td>\n",
              "      <td>...</td>\n",
              "      <td>...</td>\n",
              "      <td>...</td>\n",
              "      <td>...</td>\n",
              "      <td>...</td>\n",
              "      <td>...</td>\n",
              "      <td>...</td>\n",
              "      <td>...</td>\n",
              "      <td>...</td>\n",
              "      <td>...</td>\n",
              "      <td>...</td>\n",
              "      <td>...</td>\n",
              "      <td>...</td>\n",
              "      <td>...</td>\n",
              "      <td>...</td>\n",
              "      <td>...</td>\n",
              "      <td>...</td>\n",
              "      <td>...</td>\n",
              "    </tr>\n",
              "    <tr>\n",
              "      <th>1016013</th>\n",
              "      <td>udp</td>\n",
              "      <td>CON</td>\n",
              "      <td>-0.425227</td>\n",
              "      <td>-0.040901</td>\n",
              "      <td>Non</td>\n",
              "      <td>-1.196443</td>\n",
              "      <td>-0.198505</td>\n",
              "      <td>-0.089491</td>\n",
              "      <td>0.861607</td>\n",
              "      <td>-0.069053</td>\n",
              "      <td>...</td>\n",
              "      <td>-0.034289</td>\n",
              "      <td>0.389837</td>\n",
              "      <td>-0.705200</td>\n",
              "      <td>-1.190417</td>\n",
              "      <td>-1.190141</td>\n",
              "      <td>0.683803</td>\n",
              "      <td>0.038839</td>\n",
              "      <td>-0.682425</td>\n",
              "      <td>-0.574940</td>\n",
              "      <td>-0.548926</td>\n",
              "    </tr>\n",
              "    <tr>\n",
              "      <th>1016014</th>\n",
              "      <td>udp</td>\n",
              "      <td>CON</td>\n",
              "      <td>-0.425227</td>\n",
              "      <td>-0.040901</td>\n",
              "      <td>Non</td>\n",
              "      <td>-1.196443</td>\n",
              "      <td>-0.198505</td>\n",
              "      <td>-0.089491</td>\n",
              "      <td>0.876051</td>\n",
              "      <td>-0.023728</td>\n",
              "      <td>...</td>\n",
              "      <td>-1.453633</td>\n",
              "      <td>-0.389886</td>\n",
              "      <td>-0.705200</td>\n",
              "      <td>-1.190417</td>\n",
              "      <td>-1.190141</td>\n",
              "      <td>0.683803</td>\n",
              "      <td>0.049663</td>\n",
              "      <td>0.612619</td>\n",
              "      <td>0.908240</td>\n",
              "      <td>-0.545060</td>\n",
              "    </tr>\n",
              "    <tr>\n",
              "      <th>1016015</th>\n",
              "      <td>udp</td>\n",
              "      <td>CON</td>\n",
              "      <td>-0.425227</td>\n",
              "      <td>-0.040901</td>\n",
              "      <td>dns</td>\n",
              "      <td>-1.196443</td>\n",
              "      <td>-0.198505</td>\n",
              "      <td>-0.089491</td>\n",
              "      <td>-1.170987</td>\n",
              "      <td>-0.069500</td>\n",
              "      <td>...</td>\n",
              "      <td>-0.161222</td>\n",
              "      <td>0.463828</td>\n",
              "      <td>-1.081013</td>\n",
              "      <td>-1.190417</td>\n",
              "      <td>-1.190141</td>\n",
              "      <td>-0.558263</td>\n",
              "      <td>0.054975</td>\n",
              "      <td>-0.995927</td>\n",
              "      <td>-0.900241</td>\n",
              "      <td>-1.019785</td>\n",
              "    </tr>\n",
              "    <tr>\n",
              "      <th>1016016</th>\n",
              "      <td>tcp</td>\n",
              "      <td>FIN</td>\n",
              "      <td>-0.425227</td>\n",
              "      <td>-0.040901</td>\n",
              "      <td>Non</td>\n",
              "      <td>0.835819</td>\n",
              "      <td>-0.198505</td>\n",
              "      <td>-0.089491</td>\n",
              "      <td>-1.170988</td>\n",
              "      <td>-0.069403</td>\n",
              "      <td>...</td>\n",
              "      <td>0.623347</td>\n",
              "      <td>0.781828</td>\n",
              "      <td>0.276956</td>\n",
              "      <td>0.924729</td>\n",
              "      <td>0.851938</td>\n",
              "      <td>1.316317</td>\n",
              "      <td>0.277184</td>\n",
              "      <td>-0.171061</td>\n",
              "      <td>-0.797324</td>\n",
              "      <td>0.289554</td>\n",
              "    </tr>\n",
              "    <tr>\n",
              "      <th>1016017</th>\n",
              "      <td>tcp</td>\n",
              "      <td>FIN</td>\n",
              "      <td>-0.425227</td>\n",
              "      <td>-0.040901</td>\n",
              "      <td>ftp-data</td>\n",
              "      <td>0.835819</td>\n",
              "      <td>-0.198505</td>\n",
              "      <td>-0.089491</td>\n",
              "      <td>0.872081</td>\n",
              "      <td>-0.020256</td>\n",
              "      <td>...</td>\n",
              "      <td>-1.775920</td>\n",
              "      <td>-0.135183</td>\n",
              "      <td>-0.457659</td>\n",
              "      <td>0.886331</td>\n",
              "      <td>0.812721</td>\n",
              "      <td>-0.880624</td>\n",
              "      <td>0.542750</td>\n",
              "      <td>1.843607</td>\n",
              "      <td>1.046743</td>\n",
              "      <td>-0.132401</td>\n",
              "    </tr>\n",
              "  </tbody>\n",
              "</table>\n",
              "<p>1016018 rows × 36 columns</p>\n",
              "</div>\n",
              "      <button class=\"colab-df-convert\" onclick=\"convertToInteractive('df-77cdb637-7b43-4a7a-8c16-e7338b999253')\"\n",
              "              title=\"Convert this dataframe to an interactive table.\"\n",
              "              style=\"display:none;\">\n",
              "        \n",
              "  <svg xmlns=\"http://www.w3.org/2000/svg\" height=\"24px\"viewBox=\"0 0 24 24\"\n",
              "       width=\"24px\">\n",
              "    <path d=\"M0 0h24v24H0V0z\" fill=\"none\"/>\n",
              "    <path d=\"M18.56 5.44l.94 2.06.94-2.06 2.06-.94-2.06-.94-.94-2.06-.94 2.06-2.06.94zm-11 1L8.5 8.5l.94-2.06 2.06-.94-2.06-.94L8.5 2.5l-.94 2.06-2.06.94zm10 10l.94 2.06.94-2.06 2.06-.94-2.06-.94-.94-2.06-.94 2.06-2.06.94z\"/><path d=\"M17.41 7.96l-1.37-1.37c-.4-.4-.92-.59-1.43-.59-.52 0-1.04.2-1.43.59L10.3 9.45l-7.72 7.72c-.78.78-.78 2.05 0 2.83L4 21.41c.39.39.9.59 1.41.59.51 0 1.02-.2 1.41-.59l7.78-7.78 2.81-2.81c.8-.78.8-2.07 0-2.86zM5.41 20L4 18.59l7.72-7.72 1.47 1.35L5.41 20z\"/>\n",
              "  </svg>\n",
              "      </button>\n",
              "      \n",
              "  <style>\n",
              "    .colab-df-container {\n",
              "      display:flex;\n",
              "      flex-wrap:wrap;\n",
              "      gap: 12px;\n",
              "    }\n",
              "\n",
              "    .colab-df-convert {\n",
              "      background-color: #E8F0FE;\n",
              "      border: none;\n",
              "      border-radius: 50%;\n",
              "      cursor: pointer;\n",
              "      display: none;\n",
              "      fill: #1967D2;\n",
              "      height: 32px;\n",
              "      padding: 0 0 0 0;\n",
              "      width: 32px;\n",
              "    }\n",
              "\n",
              "    .colab-df-convert:hover {\n",
              "      background-color: #E2EBFA;\n",
              "      box-shadow: 0px 1px 2px rgba(60, 64, 67, 0.3), 0px 1px 3px 1px rgba(60, 64, 67, 0.15);\n",
              "      fill: #174EA6;\n",
              "    }\n",
              "\n",
              "    [theme=dark] .colab-df-convert {\n",
              "      background-color: #3B4455;\n",
              "      fill: #D2E3FC;\n",
              "    }\n",
              "\n",
              "    [theme=dark] .colab-df-convert:hover {\n",
              "      background-color: #434B5C;\n",
              "      box-shadow: 0px 1px 3px 1px rgba(0, 0, 0, 0.15);\n",
              "      filter: drop-shadow(0px 1px 2px rgba(0, 0, 0, 0.3));\n",
              "      fill: #FFFFFF;\n",
              "    }\n",
              "  </style>\n",
              "\n",
              "      <script>\n",
              "        const buttonEl =\n",
              "          document.querySelector('#df-77cdb637-7b43-4a7a-8c16-e7338b999253 button.colab-df-convert');\n",
              "        buttonEl.style.display =\n",
              "          google.colab.kernel.accessAllowed ? 'block' : 'none';\n",
              "\n",
              "        async function convertToInteractive(key) {\n",
              "          const element = document.querySelector('#df-77cdb637-7b43-4a7a-8c16-e7338b999253');\n",
              "          const dataTable =\n",
              "            await google.colab.kernel.invokeFunction('convertToInteractive',\n",
              "                                                     [key], {});\n",
              "          if (!dataTable) return;\n",
              "\n",
              "          const docLinkHtml = 'Like what you see? Visit the ' +\n",
              "            '<a target=\"_blank\" href=https://colab.research.google.com/notebooks/data_table.ipynb>data table notebook</a>'\n",
              "            + ' to learn more about interactive tables.';\n",
              "          element.innerHTML = '';\n",
              "          dataTable['output_type'] = 'display_data';\n",
              "          await google.colab.output.renderOutput(dataTable, element);\n",
              "          const docLink = document.createElement('div');\n",
              "          docLink.innerHTML = docLinkHtml;\n",
              "          element.appendChild(docLink);\n",
              "        }\n",
              "      </script>\n",
              "    </div>\n",
              "  </div>\n",
              "  "
            ]
          },
          "metadata": {},
          "execution_count": 118
        }
      ],
      "source": [
        "x_train"
      ]
    },
    {
      "cell_type": "markdown",
      "source": [
        "Apply one hot Encoding the columns service,proto and state,it is beneficial because of \n",
        "\n",
        "\n",
        "\n",
        "*   Categorical Representation: Machine learning algorithms typically operate on numerical data. By converting categorical variables into numerical representations, such as one-hot encoding, we enable the algorithms to process and learn from these variables effectively.\n",
        "* Capturing Non-Linear Relationships: One-hot encoding represents each unique category as a binary feature, indicating the presence or absence of that category. This approach allows the model to capture non-linear relationships between the categories and the target variable.  \n",
        "\n",
        "\n",
        "\n"
      ],
      "metadata": {
        "id": "Vik-GMjEssZw"
      }
    },
    {
      "cell_type": "code",
      "execution_count": null,
      "metadata": {
        "id": "hyyLdYMGbqNN"
      },
      "outputs": [],
      "source": [
        "service_ = OneHotEncoder()\n",
        "proto_ = OneHotEncoder()\n",
        "state_ = OneHotEncoder()\n",
        "ohe_service = service_.fit(x_train.service.values.reshape(-1,1))\n",
        "ohe_proto = proto_.fit(x_train.proto.values.reshape(-1,1))\n",
        "ohe_state = state_.fit(x_train.state.values.reshape(-1,1))"
      ]
    },
    {
      "cell_type": "code",
      "execution_count": null,
      "metadata": {
        "id": "BmisvMuHbvx5"
      },
      "outputs": [],
      "source": [
        "for col, ohe in zip(['proto', 'service', 'state'], [ohe_proto, ohe_service, ohe_state]):\n",
        "    x = ohe.transform(x_train[col].values.reshape(-1,1))\n",
        "    tmp_df = pd.DataFrame(x.todense(), columns=[col+'_'+i for i in ohe.categories_[0]])\n",
        "    x_train = pd.concat([x_train.drop(col, axis=1), tmp_df], axis=1)"
      ]
    },
    {
      "cell_type": "code",
      "execution_count": null,
      "metadata": {
        "colab": {
          "base_uri": "https://localhost:8080/"
        },
        "id": "SNVEOwdPZ7Zm",
        "outputId": "253de64d-5ca2-4a23-96d6-9e2f68e73d0f"
      },
      "outputs": [
        {
          "output_type": "execute_result",
          "data": {
            "text/plain": [
              "(1016018, 197)"
            ]
          },
          "metadata": {},
          "execution_count": 121
        }
      ],
      "source": [
        "x_train.shape"
      ]
    },
    {
      "cell_type": "code",
      "execution_count": null,
      "metadata": {
        "id": "zVHSm6Opcyro"
      },
      "outputs": [],
      "source": [
        "for col, ohe in zip(['proto', 'service', 'state'], [ohe_proto, ohe_service, ohe_state]):\n",
        "    x = ohe.transform(x_train_cnn[col].values.reshape(-1,1))\n",
        "    tmp_df = pd.DataFrame(x.todense(), columns=[col+'_'+i for i in ohe.categories_[0]])\n",
        "    x_train_cnn = pd.concat([x_train_cnn.drop(col, axis=1), tmp_df], axis=1)\n"
      ]
    },
    {
      "cell_type": "code",
      "execution_count": null,
      "metadata": {
        "colab": {
          "base_uri": "https://localhost:8080/"
        },
        "id": "aA-LFX0Pq-QO",
        "outputId": "5cefd15e-503e-4b6f-fbb6-f15b7069dd57"
      },
      "outputs": [
        {
          "output_type": "execute_result",
          "data": {
            "text/plain": [
              "(128316, 197)"
            ]
          },
          "metadata": {},
          "execution_count": 123
        }
      ],
      "source": [
        "x_train_cnn.shape"
      ]
    },
    {
      "cell_type": "code",
      "source": [
        "x_train"
      ],
      "metadata": {
        "id": "Ish9wVO7pxX7",
        "outputId": "645a9c17-57c3-42b2-d5bb-dc1c6f0769c6",
        "colab": {
          "base_uri": "https://localhost:8080/",
          "height": 488
        }
      },
      "execution_count": null,
      "outputs": [
        {
          "output_type": "execute_result",
          "data": {
            "text/plain": [
              "             sttl      dttl      swin  trans_depth  res_bdy_len     stime  \\\n",
              "0       -0.425227 -0.040901 -1.196443    -0.198505    -0.089491  0.850317   \n",
              "1       -0.425227 -0.040901 -1.196443    -0.198505    -0.089491  0.862853   \n",
              "2       -0.425227 -0.040901 -1.196443    -0.198505    -0.089491  0.853453   \n",
              "3        2.567365 -0.718852 -1.196443    -0.198505    -0.089491 -1.170238   \n",
              "4        2.567365 -0.718852 -1.196443    -0.198505    -0.089491  0.862509   \n",
              "...           ...       ...       ...          ...          ...       ...   \n",
              "1016013 -0.425227 -0.040901 -1.196443    -0.198505    -0.089491  0.861607   \n",
              "1016014 -0.425227 -0.040901 -1.196443    -0.198505    -0.089491  0.876051   \n",
              "1016015 -0.425227 -0.040901 -1.196443    -0.198505    -0.089491 -1.170987   \n",
              "1016016 -0.425227 -0.040901  0.835819    -0.198505    -0.089491 -1.170988   \n",
              "1016017 -0.425227 -0.040901  0.835819    -0.198505    -0.089491  0.872081   \n",
              "\n",
              "          sintpkt   dintpkt    tcprtt    synack  ...  state_INT  state_MAS  \\\n",
              "0       -0.069062 -0.054498 -0.134875 -0.127975  ...        0.0        0.0   \n",
              "1       -0.069356 -0.055081 -0.134875 -0.127975  ...        0.0        0.0   \n",
              "2       -0.069497 -0.055217 -0.134875 -0.127975  ...        0.0        0.0   \n",
              "3       -0.069497 -0.055218 -0.134875 -0.127975  ...        1.0        0.0   \n",
              "4       -0.069499 -0.055218 -0.134875 -0.127975  ...        1.0        0.0   \n",
              "...           ...       ...       ...       ...  ...        ...        ...   \n",
              "1016013 -0.069053 -0.054478 -0.134875 -0.127975  ...        0.0        0.0   \n",
              "1016014 -0.023728  0.024276 -0.134875 -0.127975  ...        0.0        0.0   \n",
              "1016015 -0.069500 -0.055211 -0.134875 -0.127975  ...        0.0        0.0   \n",
              "1016016 -0.069403 -0.055040 -0.119673 -0.106001  ...        0.0        0.0   \n",
              "1016017 -0.020256  0.012790 -0.119738 -0.106743  ...        0.0        0.0   \n",
              "\n",
              "         state_PAR  state_REQ  state_RST  state_TST  state_TXD  state_URH  \\\n",
              "0              0.0        0.0        0.0        0.0        0.0        0.0   \n",
              "1              0.0        0.0        0.0        0.0        0.0        0.0   \n",
              "2              0.0        0.0        0.0        0.0        0.0        0.0   \n",
              "3              0.0        0.0        0.0        0.0        0.0        0.0   \n",
              "4              0.0        0.0        0.0        0.0        0.0        0.0   \n",
              "...            ...        ...        ...        ...        ...        ...   \n",
              "1016013        0.0        0.0        0.0        0.0        0.0        0.0   \n",
              "1016014        0.0        0.0        0.0        0.0        0.0        0.0   \n",
              "1016015        0.0        0.0        0.0        0.0        0.0        0.0   \n",
              "1016016        0.0        0.0        0.0        0.0        0.0        0.0   \n",
              "1016017        0.0        0.0        0.0        0.0        0.0        0.0   \n",
              "\n",
              "         state_URN  state_no  \n",
              "0              0.0       0.0  \n",
              "1              0.0       0.0  \n",
              "2              0.0       0.0  \n",
              "3              0.0       0.0  \n",
              "4              0.0       0.0  \n",
              "...            ...       ...  \n",
              "1016013        0.0       0.0  \n",
              "1016014        0.0       0.0  \n",
              "1016015        0.0       0.0  \n",
              "1016016        0.0       0.0  \n",
              "1016017        0.0       0.0  \n",
              "\n",
              "[1016018 rows x 197 columns]"
            ],
            "text/html": [
              "\n",
              "  <div id=\"df-58e4406c-b93d-4783-b822-fcc2dadd51f7\">\n",
              "    <div class=\"colab-df-container\">\n",
              "      <div>\n",
              "<style scoped>\n",
              "    .dataframe tbody tr th:only-of-type {\n",
              "        vertical-align: middle;\n",
              "    }\n",
              "\n",
              "    .dataframe tbody tr th {\n",
              "        vertical-align: top;\n",
              "    }\n",
              "\n",
              "    .dataframe thead th {\n",
              "        text-align: right;\n",
              "    }\n",
              "</style>\n",
              "<table border=\"1\" class=\"dataframe\">\n",
              "  <thead>\n",
              "    <tr style=\"text-align: right;\">\n",
              "      <th></th>\n",
              "      <th>sttl</th>\n",
              "      <th>dttl</th>\n",
              "      <th>swin</th>\n",
              "      <th>trans_depth</th>\n",
              "      <th>res_bdy_len</th>\n",
              "      <th>stime</th>\n",
              "      <th>sintpkt</th>\n",
              "      <th>dintpkt</th>\n",
              "      <th>tcprtt</th>\n",
              "      <th>synack</th>\n",
              "      <th>...</th>\n",
              "      <th>state_INT</th>\n",
              "      <th>state_MAS</th>\n",
              "      <th>state_PAR</th>\n",
              "      <th>state_REQ</th>\n",
              "      <th>state_RST</th>\n",
              "      <th>state_TST</th>\n",
              "      <th>state_TXD</th>\n",
              "      <th>state_URH</th>\n",
              "      <th>state_URN</th>\n",
              "      <th>state_no</th>\n",
              "    </tr>\n",
              "  </thead>\n",
              "  <tbody>\n",
              "    <tr>\n",
              "      <th>0</th>\n",
              "      <td>-0.425227</td>\n",
              "      <td>-0.040901</td>\n",
              "      <td>-1.196443</td>\n",
              "      <td>-0.198505</td>\n",
              "      <td>-0.089491</td>\n",
              "      <td>0.850317</td>\n",
              "      <td>-0.069062</td>\n",
              "      <td>-0.054498</td>\n",
              "      <td>-0.134875</td>\n",
              "      <td>-0.127975</td>\n",
              "      <td>...</td>\n",
              "      <td>0.0</td>\n",
              "      <td>0.0</td>\n",
              "      <td>0.0</td>\n",
              "      <td>0.0</td>\n",
              "      <td>0.0</td>\n",
              "      <td>0.0</td>\n",
              "      <td>0.0</td>\n",
              "      <td>0.0</td>\n",
              "      <td>0.0</td>\n",
              "      <td>0.0</td>\n",
              "    </tr>\n",
              "    <tr>\n",
              "      <th>1</th>\n",
              "      <td>-0.425227</td>\n",
              "      <td>-0.040901</td>\n",
              "      <td>-1.196443</td>\n",
              "      <td>-0.198505</td>\n",
              "      <td>-0.089491</td>\n",
              "      <td>0.862853</td>\n",
              "      <td>-0.069356</td>\n",
              "      <td>-0.055081</td>\n",
              "      <td>-0.134875</td>\n",
              "      <td>-0.127975</td>\n",
              "      <td>...</td>\n",
              "      <td>0.0</td>\n",
              "      <td>0.0</td>\n",
              "      <td>0.0</td>\n",
              "      <td>0.0</td>\n",
              "      <td>0.0</td>\n",
              "      <td>0.0</td>\n",
              "      <td>0.0</td>\n",
              "      <td>0.0</td>\n",
              "      <td>0.0</td>\n",
              "      <td>0.0</td>\n",
              "    </tr>\n",
              "    <tr>\n",
              "      <th>2</th>\n",
              "      <td>-0.425227</td>\n",
              "      <td>-0.040901</td>\n",
              "      <td>-1.196443</td>\n",
              "      <td>-0.198505</td>\n",
              "      <td>-0.089491</td>\n",
              "      <td>0.853453</td>\n",
              "      <td>-0.069497</td>\n",
              "      <td>-0.055217</td>\n",
              "      <td>-0.134875</td>\n",
              "      <td>-0.127975</td>\n",
              "      <td>...</td>\n",
              "      <td>0.0</td>\n",
              "      <td>0.0</td>\n",
              "      <td>0.0</td>\n",
              "      <td>0.0</td>\n",
              "      <td>0.0</td>\n",
              "      <td>0.0</td>\n",
              "      <td>0.0</td>\n",
              "      <td>0.0</td>\n",
              "      <td>0.0</td>\n",
              "      <td>0.0</td>\n",
              "    </tr>\n",
              "    <tr>\n",
              "      <th>3</th>\n",
              "      <td>2.567365</td>\n",
              "      <td>-0.718852</td>\n",
              "      <td>-1.196443</td>\n",
              "      <td>-0.198505</td>\n",
              "      <td>-0.089491</td>\n",
              "      <td>-1.170238</td>\n",
              "      <td>-0.069497</td>\n",
              "      <td>-0.055218</td>\n",
              "      <td>-0.134875</td>\n",
              "      <td>-0.127975</td>\n",
              "      <td>...</td>\n",
              "      <td>1.0</td>\n",
              "      <td>0.0</td>\n",
              "      <td>0.0</td>\n",
              "      <td>0.0</td>\n",
              "      <td>0.0</td>\n",
              "      <td>0.0</td>\n",
              "      <td>0.0</td>\n",
              "      <td>0.0</td>\n",
              "      <td>0.0</td>\n",
              "      <td>0.0</td>\n",
              "    </tr>\n",
              "    <tr>\n",
              "      <th>4</th>\n",
              "      <td>2.567365</td>\n",
              "      <td>-0.718852</td>\n",
              "      <td>-1.196443</td>\n",
              "      <td>-0.198505</td>\n",
              "      <td>-0.089491</td>\n",
              "      <td>0.862509</td>\n",
              "      <td>-0.069499</td>\n",
              "      <td>-0.055218</td>\n",
              "      <td>-0.134875</td>\n",
              "      <td>-0.127975</td>\n",
              "      <td>...</td>\n",
              "      <td>1.0</td>\n",
              "      <td>0.0</td>\n",
              "      <td>0.0</td>\n",
              "      <td>0.0</td>\n",
              "      <td>0.0</td>\n",
              "      <td>0.0</td>\n",
              "      <td>0.0</td>\n",
              "      <td>0.0</td>\n",
              "      <td>0.0</td>\n",
              "      <td>0.0</td>\n",
              "    </tr>\n",
              "    <tr>\n",
              "      <th>...</th>\n",
              "      <td>...</td>\n",
              "      <td>...</td>\n",
              "      <td>...</td>\n",
              "      <td>...</td>\n",
              "      <td>...</td>\n",
              "      <td>...</td>\n",
              "      <td>...</td>\n",
              "      <td>...</td>\n",
              "      <td>...</td>\n",
              "      <td>...</td>\n",
              "      <td>...</td>\n",
              "      <td>...</td>\n",
              "      <td>...</td>\n",
              "      <td>...</td>\n",
              "      <td>...</td>\n",
              "      <td>...</td>\n",
              "      <td>...</td>\n",
              "      <td>...</td>\n",
              "      <td>...</td>\n",
              "      <td>...</td>\n",
              "      <td>...</td>\n",
              "    </tr>\n",
              "    <tr>\n",
              "      <th>1016013</th>\n",
              "      <td>-0.425227</td>\n",
              "      <td>-0.040901</td>\n",
              "      <td>-1.196443</td>\n",
              "      <td>-0.198505</td>\n",
              "      <td>-0.089491</td>\n",
              "      <td>0.861607</td>\n",
              "      <td>-0.069053</td>\n",
              "      <td>-0.054478</td>\n",
              "      <td>-0.134875</td>\n",
              "      <td>-0.127975</td>\n",
              "      <td>...</td>\n",
              "      <td>0.0</td>\n",
              "      <td>0.0</td>\n",
              "      <td>0.0</td>\n",
              "      <td>0.0</td>\n",
              "      <td>0.0</td>\n",
              "      <td>0.0</td>\n",
              "      <td>0.0</td>\n",
              "      <td>0.0</td>\n",
              "      <td>0.0</td>\n",
              "      <td>0.0</td>\n",
              "    </tr>\n",
              "    <tr>\n",
              "      <th>1016014</th>\n",
              "      <td>-0.425227</td>\n",
              "      <td>-0.040901</td>\n",
              "      <td>-1.196443</td>\n",
              "      <td>-0.198505</td>\n",
              "      <td>-0.089491</td>\n",
              "      <td>0.876051</td>\n",
              "      <td>-0.023728</td>\n",
              "      <td>0.024276</td>\n",
              "      <td>-0.134875</td>\n",
              "      <td>-0.127975</td>\n",
              "      <td>...</td>\n",
              "      <td>0.0</td>\n",
              "      <td>0.0</td>\n",
              "      <td>0.0</td>\n",
              "      <td>0.0</td>\n",
              "      <td>0.0</td>\n",
              "      <td>0.0</td>\n",
              "      <td>0.0</td>\n",
              "      <td>0.0</td>\n",
              "      <td>0.0</td>\n",
              "      <td>0.0</td>\n",
              "    </tr>\n",
              "    <tr>\n",
              "      <th>1016015</th>\n",
              "      <td>-0.425227</td>\n",
              "      <td>-0.040901</td>\n",
              "      <td>-1.196443</td>\n",
              "      <td>-0.198505</td>\n",
              "      <td>-0.089491</td>\n",
              "      <td>-1.170987</td>\n",
              "      <td>-0.069500</td>\n",
              "      <td>-0.055211</td>\n",
              "      <td>-0.134875</td>\n",
              "      <td>-0.127975</td>\n",
              "      <td>...</td>\n",
              "      <td>0.0</td>\n",
              "      <td>0.0</td>\n",
              "      <td>0.0</td>\n",
              "      <td>0.0</td>\n",
              "      <td>0.0</td>\n",
              "      <td>0.0</td>\n",
              "      <td>0.0</td>\n",
              "      <td>0.0</td>\n",
              "      <td>0.0</td>\n",
              "      <td>0.0</td>\n",
              "    </tr>\n",
              "    <tr>\n",
              "      <th>1016016</th>\n",
              "      <td>-0.425227</td>\n",
              "      <td>-0.040901</td>\n",
              "      <td>0.835819</td>\n",
              "      <td>-0.198505</td>\n",
              "      <td>-0.089491</td>\n",
              "      <td>-1.170988</td>\n",
              "      <td>-0.069403</td>\n",
              "      <td>-0.055040</td>\n",
              "      <td>-0.119673</td>\n",
              "      <td>-0.106001</td>\n",
              "      <td>...</td>\n",
              "      <td>0.0</td>\n",
              "      <td>0.0</td>\n",
              "      <td>0.0</td>\n",
              "      <td>0.0</td>\n",
              "      <td>0.0</td>\n",
              "      <td>0.0</td>\n",
              "      <td>0.0</td>\n",
              "      <td>0.0</td>\n",
              "      <td>0.0</td>\n",
              "      <td>0.0</td>\n",
              "    </tr>\n",
              "    <tr>\n",
              "      <th>1016017</th>\n",
              "      <td>-0.425227</td>\n",
              "      <td>-0.040901</td>\n",
              "      <td>0.835819</td>\n",
              "      <td>-0.198505</td>\n",
              "      <td>-0.089491</td>\n",
              "      <td>0.872081</td>\n",
              "      <td>-0.020256</td>\n",
              "      <td>0.012790</td>\n",
              "      <td>-0.119738</td>\n",
              "      <td>-0.106743</td>\n",
              "      <td>...</td>\n",
              "      <td>0.0</td>\n",
              "      <td>0.0</td>\n",
              "      <td>0.0</td>\n",
              "      <td>0.0</td>\n",
              "      <td>0.0</td>\n",
              "      <td>0.0</td>\n",
              "      <td>0.0</td>\n",
              "      <td>0.0</td>\n",
              "      <td>0.0</td>\n",
              "      <td>0.0</td>\n",
              "    </tr>\n",
              "  </tbody>\n",
              "</table>\n",
              "<p>1016018 rows × 197 columns</p>\n",
              "</div>\n",
              "      <button class=\"colab-df-convert\" onclick=\"convertToInteractive('df-58e4406c-b93d-4783-b822-fcc2dadd51f7')\"\n",
              "              title=\"Convert this dataframe to an interactive table.\"\n",
              "              style=\"display:none;\">\n",
              "        \n",
              "  <svg xmlns=\"http://www.w3.org/2000/svg\" height=\"24px\"viewBox=\"0 0 24 24\"\n",
              "       width=\"24px\">\n",
              "    <path d=\"M0 0h24v24H0V0z\" fill=\"none\"/>\n",
              "    <path d=\"M18.56 5.44l.94 2.06.94-2.06 2.06-.94-2.06-.94-.94-2.06-.94 2.06-2.06.94zm-11 1L8.5 8.5l.94-2.06 2.06-.94-2.06-.94L8.5 2.5l-.94 2.06-2.06.94zm10 10l.94 2.06.94-2.06 2.06-.94-2.06-.94-.94-2.06-.94 2.06-2.06.94z\"/><path d=\"M17.41 7.96l-1.37-1.37c-.4-.4-.92-.59-1.43-.59-.52 0-1.04.2-1.43.59L10.3 9.45l-7.72 7.72c-.78.78-.78 2.05 0 2.83L4 21.41c.39.39.9.59 1.41.59.51 0 1.02-.2 1.41-.59l7.78-7.78 2.81-2.81c.8-.78.8-2.07 0-2.86zM5.41 20L4 18.59l7.72-7.72 1.47 1.35L5.41 20z\"/>\n",
              "  </svg>\n",
              "      </button>\n",
              "      \n",
              "  <style>\n",
              "    .colab-df-container {\n",
              "      display:flex;\n",
              "      flex-wrap:wrap;\n",
              "      gap: 12px;\n",
              "    }\n",
              "\n",
              "    .colab-df-convert {\n",
              "      background-color: #E8F0FE;\n",
              "      border: none;\n",
              "      border-radius: 50%;\n",
              "      cursor: pointer;\n",
              "      display: none;\n",
              "      fill: #1967D2;\n",
              "      height: 32px;\n",
              "      padding: 0 0 0 0;\n",
              "      width: 32px;\n",
              "    }\n",
              "\n",
              "    .colab-df-convert:hover {\n",
              "      background-color: #E2EBFA;\n",
              "      box-shadow: 0px 1px 2px rgba(60, 64, 67, 0.3), 0px 1px 3px 1px rgba(60, 64, 67, 0.15);\n",
              "      fill: #174EA6;\n",
              "    }\n",
              "\n",
              "    [theme=dark] .colab-df-convert {\n",
              "      background-color: #3B4455;\n",
              "      fill: #D2E3FC;\n",
              "    }\n",
              "\n",
              "    [theme=dark] .colab-df-convert:hover {\n",
              "      background-color: #434B5C;\n",
              "      box-shadow: 0px 1px 3px 1px rgba(0, 0, 0, 0.15);\n",
              "      filter: drop-shadow(0px 1px 2px rgba(0, 0, 0, 0.3));\n",
              "      fill: #FFFFFF;\n",
              "    }\n",
              "  </style>\n",
              "\n",
              "      <script>\n",
              "        const buttonEl =\n",
              "          document.querySelector('#df-58e4406c-b93d-4783-b822-fcc2dadd51f7 button.colab-df-convert');\n",
              "        buttonEl.style.display =\n",
              "          google.colab.kernel.accessAllowed ? 'block' : 'none';\n",
              "\n",
              "        async function convertToInteractive(key) {\n",
              "          const element = document.querySelector('#df-58e4406c-b93d-4783-b822-fcc2dadd51f7');\n",
              "          const dataTable =\n",
              "            await google.colab.kernel.invokeFunction('convertToInteractive',\n",
              "                                                     [key], {});\n",
              "          if (!dataTable) return;\n",
              "\n",
              "          const docLinkHtml = 'Like what you see? Visit the ' +\n",
              "            '<a target=\"_blank\" href=https://colab.research.google.com/notebooks/data_table.ipynb>data table notebook</a>'\n",
              "            + ' to learn more about interactive tables.';\n",
              "          element.innerHTML = '';\n",
              "          dataTable['output_type'] = 'display_data';\n",
              "          await google.colab.output.renderOutput(dataTable, element);\n",
              "          const docLink = document.createElement('div');\n",
              "          docLink.innerHTML = docLinkHtml;\n",
              "          element.appendChild(docLink);\n",
              "        }\n",
              "      </script>\n",
              "    </div>\n",
              "  </div>\n",
              "  "
            ]
          },
          "metadata": {},
          "execution_count": 124
        }
      ]
    },
    {
      "cell_type": "code",
      "execution_count": null,
      "metadata": {
        "id": "cAkjtWnYDLZ_"
      },
      "outputs": [],
      "source": [
        "saved_dict[\"columns\"].remove(\"attack_cat\")"
      ]
    },
    {
      "cell_type": "code",
      "execution_count": null,
      "metadata": {
        "id": "XkfSjnyicQUN"
      },
      "outputs": [],
      "source": [
        "pickle.dump(scaler, open(path+'/scaler.pkl', 'wb'))  # Standard scaler\n",
        "pickle.dump(saved_dict, open(path+'/saved_dict.pkl', 'wb'))  # Dictionary with important parameters\n"
      ]
    },
    {
      "cell_type": "code",
      "execution_count": null,
      "metadata": {
        "id": "uyDgt36McY4K"
      },
      "outputs": [],
      "source": [
        "pickle.dump(ohe_proto, open(path+'/ohe_proto.pkl', 'wb'))\n",
        "pickle.dump(ohe_service, open(path+'/ohe_service.pkl', 'wb'))\n",
        "pickle.dump(ohe_state, open(path+'/ohe_state.pkl', 'wb'))"
      ]
    },
    {
      "cell_type": "code",
      "execution_count": null,
      "metadata": {
        "colab": {
          "background_save": true
        },
        "id": "95-bmUT9JqNj"
      },
      "outputs": [],
      "source": [
        "x_train.to_csv(path+\"/final_train.csv\",index=False)"
      ]
    },
    {
      "cell_type": "code",
      "execution_count": null,
      "metadata": {
        "colab": {
          "background_save": true
        },
        "id": "5NF0uas6FeXR"
      },
      "outputs": [],
      "source": [
        "x_train.shape"
      ]
    },
    {
      "cell_type": "code",
      "execution_count": null,
      "metadata": {
        "id": "WO2iV_7Cm7d7"
      },
      "outputs": [],
      "source": [
        "x_train_cnn.to_csv(path+\"/final_train_cnn.csv\",index=False)"
      ]
    },
    {
      "cell_type": "code",
      "execution_count": null,
      "metadata": {
        "colab": {
          "background_save": true
        },
        "id": "vbP-M35pFi_2"
      },
      "outputs": [],
      "source": [
        "x_train_cnn.shape"
      ]
    },
    {
      "cell_type": "code",
      "execution_count": null,
      "metadata": {
        "colab": {
          "background_save": true
        },
        "id": "I-NqHkVTnsg4"
      },
      "outputs": [],
      "source": [
        "x_train.columns"
      ]
    },
    {
      "cell_type": "code",
      "execution_count": null,
      "metadata": {
        "id": "pEemxQAGnN8g"
      },
      "outputs": [],
      "source": [
        "attack_cat_cnn=pd.Series(attack_encoder.inverse_transform(y_train_cnn))"
      ]
    },
    {
      "cell_type": "code",
      "execution_count": null,
      "metadata": {
        "id": "dofddJ9TnWWR"
      },
      "outputs": [],
      "source": [
        "y_train_cnn=pd.Series(y_train_cnn)"
      ]
    },
    {
      "cell_type": "code",
      "execution_count": null,
      "metadata": {
        "id": "dG46aRtenbsi"
      },
      "outputs": [],
      "source": [
        "label_train_cnn={\"attack_cat\":attack_cat_cnn,\"y_train\":y_train_cnn}"
      ]
    },
    {
      "cell_type": "code",
      "execution_count": null,
      "metadata": {
        "id": "JbFr_rZQnie_"
      },
      "outputs": [],
      "source": [
        "label_train_cnn = pd.DataFrame(label_train_cnn)"
      ]
    },
    {
      "cell_type": "code",
      "execution_count": null,
      "metadata": {
        "id": "lS6D_iiCnmSw"
      },
      "outputs": [],
      "source": [
        "label_train_cnn.to_csv(path+\"/label_train_cnn.csv\",index=False)"
      ]
    }
  ],
  "metadata": {
    "colab": {
      "provenance": []
    },
    "kernelspec": {
      "display_name": "Python 3",
      "name": "python3"
    },
    "language_info": {
      "name": "python"
    }
  },
  "nbformat": 4,
  "nbformat_minor": 0
}