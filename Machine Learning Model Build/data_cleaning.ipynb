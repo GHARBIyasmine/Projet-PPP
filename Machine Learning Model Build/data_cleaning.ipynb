{
  "cells": [
    {
      "cell_type": "code",
      "execution_count": null,
      "metadata": {
        "colab": {
          "base_uri": "https://localhost:8080/"
        },
        "id": "NK0H816Yb0om",
        "outputId": "0a6d7850-8ec9-45e1-d521-1777ac93198d"
      },
      "outputs": [
        {
          "output_type": "stream",
          "name": "stdout",
          "text": [
            "Mounted at /content/drive\n"
          ]
        }
      ],
      "source": [
        "# Mounts Google Drive\n",
        "# Importing the necessary module\n",
        "from google.colab import drive\n",
        "# Mounting Google Drive\n",
        "\n",
        "drive.mount('/content/drive')"
      ]
    },
    {
      "cell_type": "code",
      "execution_count": null,
      "metadata": {
        "id": "FBFCBuJObpwl"
      },
      "outputs": [],
      "source": [
        "import numpy as np  # Library for array manipulation\n",
        "import pandas as pd  # Library for handling CSV files and dataframes\n",
        "import matplotlib.pyplot as plt  # Library for plotting\n",
        "import seaborn as sns  # Library for advanced plotting\n",
        "from scipy import stats  # Library for statistical functions\n",
        "\n",
        "import pickle  # Library for loading data from disk\n",
        "from prettytable import PrettyTable  # Library for creating tabular output\n",
        "\n",
        "import warnings  # Library for handling warnings\n",
        "warnings.filterwarnings(\"ignore\")  # Ignore warning messages\n",
        "\n",
        "from sklearn.preprocessing import StandardScaler  # Library for data scaling\n",
        "from sklearn.preprocessing import LabelEncoder, OneHotEncoder  # Libraries for encoding categorical variables\n",
        "\n",
        "from sklearn.model_selection import train_test_split  # Library for splitting data into train and test sets\n",
        "from sklearn.metrics import accuracy_score, confusion_matrix, make_scorer  # Libraries for model evaluation\n",
        "from sklearn.metrics import auc, f1_score, roc_curve  # Libraries for specific evaluation metrics\n",
        "from sklearn.model_selection import GridSearchCV, RandomizedSearchCV  # Libraries for hyperparameter tuning\n",
        "from sklearn.model_selection import cross_validate, cross_val_predict  # Libraries for cross-validation\n"
      ]
    },
    {
      "cell_type": "markdown",
      "metadata": {
        "id": "fN7zpS4Maxrr"
      },
      "source": [
        "# Reading Data"
      ]
    },
    {
      "cell_type": "code",
      "execution_count": null,
      "metadata": {
        "id": "h1-bGr7laUjV"
      },
      "outputs": [],
      "source": [
        "saved_dict={}"
      ]
    },
    {
      "cell_type": "markdown",
      "source": [
        "Combining Multiple CSV Files: we will read multiple CSV files, each corresponding to a different subset of data, and combine them into a single DataFrame called all_data. The CSV files are assumed to be located in the directory specified by path, and their names follow the format UNSW-NB15_1.csv, UNSW-NB15_2.csv, and so on."
      ],
      "metadata": {
        "id": "TmOKJib5Oa67"
      }
    },
    {
      "cell_type": "code",
      "execution_count": null,
      "metadata": {
        "id": "boFlkItFXolb"
      },
      "outputs": [],
      "source": [
        "dfs = []\n",
        "for i in range(1,5):\n",
        "    path = '/content/drive/MyDrive/PPP/IDS_DATASET/UNSW-NB15_{}.csv'  # There are 4 input csv files\n",
        "    dfs.append(pd.read_csv(path.format(i), header = None))\n",
        "all_data = pd.concat(dfs).reset_index(drop=True)  # Concat all to a single df"
      ]
    },
    {
      "cell_type": "code",
      "execution_count": null,
      "metadata": {
        "id": "qYfSxXISpxVU"
      },
      "outputs": [],
      "source": [
        "# Read the CSV file to obtain column names for the dataset\n",
        "df_col = pd.read_csv('/content/drive/MyDrive/PPP/IDS_DATASET/NUSW-NB15_features.csv', encoding='ISO-8859-1')"
      ]
    },
    {
      "cell_type": "code",
      "execution_count": null,
      "metadata": {
        "colab": {
          "base_uri": "https://localhost:8080/"
        },
        "id": "tDjmBHcPpz2c",
        "outputId": "a9b721d7-fcd0-4aec-f874-531f8923d72a"
      },
      "outputs": [
        {
          "output_type": "execute_result",
          "data": {
            "text/plain": [
              "Index(['No.', 'Name', 'Type ', 'Description'], dtype='object')"
            ]
          },
          "metadata": {},
          "execution_count": 7
        }
      ],
      "source": [
        "#Retrieving Column Names\n",
        "df_col.columns"
      ]
    },
    {
      "cell_type": "code",
      "execution_count": null,
      "metadata": {
        "colab": {
          "base_uri": "https://localhost:8080/",
          "height": 1000
        },
        "id": "lwt7bKBxqDbl",
        "outputId": "9b707349-37db-4d52-f995-a097263fac28"
      },
      "outputs": [
        {
          "output_type": "execute_result",
          "data": {
            "text/plain": [
              "    No.              Name      Type   \\\n",
              "0     1             srcip    nominal   \n",
              "1     2             sport    integer   \n",
              "2     3             dstip    nominal   \n",
              "3     4            dsport    integer   \n",
              "4     5             proto    nominal   \n",
              "5     6             state    nominal   \n",
              "6     7               dur      Float   \n",
              "7     8            sbytes    Integer   \n",
              "8     9            dbytes    Integer   \n",
              "9    10              sttl    Integer   \n",
              "10   11              dttl    Integer   \n",
              "11   12             sloss    Integer   \n",
              "12   13             dloss    Integer   \n",
              "13   14           service    nominal   \n",
              "14   15             Sload      Float   \n",
              "15   16             Dload      Float   \n",
              "16   17             Spkts    integer   \n",
              "17   18             Dpkts    integer   \n",
              "18   19              swin    integer   \n",
              "19   20              dwin    integer   \n",
              "20   21             stcpb    integer   \n",
              "21   22             dtcpb    integer   \n",
              "22   23           smeansz    integer   \n",
              "23   24           dmeansz    integer   \n",
              "24   25       trans_depth    integer   \n",
              "25   26       res_bdy_len    integer   \n",
              "26   27              Sjit      Float   \n",
              "27   28              Djit      Float   \n",
              "28   29             Stime  Timestamp   \n",
              "29   30             Ltime  Timestamp   \n",
              "30   31           Sintpkt      Float   \n",
              "31   32           Dintpkt      Float   \n",
              "32   33            tcprtt      Float   \n",
              "33   34            synack      Float   \n",
              "34   35            ackdat      Float   \n",
              "35   36   is_sm_ips_ports     Binary   \n",
              "36   37      ct_state_ttl    Integer   \n",
              "37   38  ct_flw_http_mthd    Integer   \n",
              "38   39      is_ftp_login     Binary   \n",
              "39   40        ct_ftp_cmd    integer   \n",
              "40   41        ct_srv_src    integer   \n",
              "41   42        ct_srv_dst    integer   \n",
              "42   43        ct_dst_ltm    integer   \n",
              "43   44       ct_src_ ltm    integer   \n",
              "44   45  ct_src_dport_ltm    integer   \n",
              "45   46  ct_dst_sport_ltm    integer   \n",
              "46   47    ct_dst_src_ltm    integer   \n",
              "47   48        attack_cat    nominal   \n",
              "48   49             Label     binary   \n",
              "\n",
              "                                          Description  \n",
              "0                                   Source IP address  \n",
              "1                                  Source port number  \n",
              "2                              Destination IP address  \n",
              "3                             Destination port number  \n",
              "4                                Transaction protocol  \n",
              "5   Indicates to the state and its dependent proto...  \n",
              "6                               Record total duration  \n",
              "7            Source to destination transaction bytes   \n",
              "8             Destination to source transaction bytes  \n",
              "9           Source to destination time to live value   \n",
              "10           Destination to source time to live value  \n",
              "11           Source packets retransmitted or dropped   \n",
              "12       Destination packets retransmitted or dropped  \n",
              "13  http, ftp, smtp, ssh, dns, ftp-data ,irc  and ...  \n",
              "14                             Source bits per second  \n",
              "15                        Destination bits per second  \n",
              "16                Source to destination packet count   \n",
              "17                 Destination to source packet count  \n",
              "18              Source TCP window advertisement value  \n",
              "19         Destination TCP window advertisement value  \n",
              "20                    Source TCP base sequence number  \n",
              "21               Destination TCP base sequence number  \n",
              "22  Mean of the ?ow packet size transmitted by the...  \n",
              "23  Mean of the ?ow packet size transmitted by the...  \n",
              "24  Represents the pipelined depth into the connec...  \n",
              "25  Actual uncompressed content size of the data t...  \n",
              "26                               Source jitter (mSec)  \n",
              "27                          Destination jitter (mSec)  \n",
              "28                                  record start time  \n",
              "29                                   record last time  \n",
              "30             Source interpacket arrival time (mSec)  \n",
              "31        Destination interpacket arrival time (mSec)  \n",
              "32  TCP connection setup round-trip time, the sum ...  \n",
              "33  TCP connection setup time, the time between th...  \n",
              "34  TCP connection setup time, the time between th...  \n",
              "35  If source (1) and destination (3)IP addresses ...  \n",
              "36  No. for each state (6) according to specific r...  \n",
              "37  No. of flows that has methods such as Get and ...  \n",
              "38  If the ftp session is accessed by user and pas...  \n",
              "39     No of flows that has a command in ftp session.  \n",
              "40  No. of connections that contain the same servi...  \n",
              "41  No. of connections that contain the same servi...  \n",
              "42  No. of connections of the same destination add...  \n",
              "43  No. of connections of the same source address ...  \n",
              "44  No of connections of the same source address (...  \n",
              "45  No of connections of the same destination addr...  \n",
              "46  No of connections of the same source (1) and t...  \n",
              "47  The name of each attack category. In this data...  \n",
              "48              0 for normal and 1 for attack records  "
            ],
            "text/html": [
              "\n",
              "  <div id=\"df-7988618c-412a-48bd-903e-8c2592058f63\">\n",
              "    <div class=\"colab-df-container\">\n",
              "      <div>\n",
              "<style scoped>\n",
              "    .dataframe tbody tr th:only-of-type {\n",
              "        vertical-align: middle;\n",
              "    }\n",
              "\n",
              "    .dataframe tbody tr th {\n",
              "        vertical-align: top;\n",
              "    }\n",
              "\n",
              "    .dataframe thead th {\n",
              "        text-align: right;\n",
              "    }\n",
              "</style>\n",
              "<table border=\"1\" class=\"dataframe\">\n",
              "  <thead>\n",
              "    <tr style=\"text-align: right;\">\n",
              "      <th></th>\n",
              "      <th>No.</th>\n",
              "      <th>Name</th>\n",
              "      <th>Type</th>\n",
              "      <th>Description</th>\n",
              "    </tr>\n",
              "  </thead>\n",
              "  <tbody>\n",
              "    <tr>\n",
              "      <th>0</th>\n",
              "      <td>1</td>\n",
              "      <td>srcip</td>\n",
              "      <td>nominal</td>\n",
              "      <td>Source IP address</td>\n",
              "    </tr>\n",
              "    <tr>\n",
              "      <th>1</th>\n",
              "      <td>2</td>\n",
              "      <td>sport</td>\n",
              "      <td>integer</td>\n",
              "      <td>Source port number</td>\n",
              "    </tr>\n",
              "    <tr>\n",
              "      <th>2</th>\n",
              "      <td>3</td>\n",
              "      <td>dstip</td>\n",
              "      <td>nominal</td>\n",
              "      <td>Destination IP address</td>\n",
              "    </tr>\n",
              "    <tr>\n",
              "      <th>3</th>\n",
              "      <td>4</td>\n",
              "      <td>dsport</td>\n",
              "      <td>integer</td>\n",
              "      <td>Destination port number</td>\n",
              "    </tr>\n",
              "    <tr>\n",
              "      <th>4</th>\n",
              "      <td>5</td>\n",
              "      <td>proto</td>\n",
              "      <td>nominal</td>\n",
              "      <td>Transaction protocol</td>\n",
              "    </tr>\n",
              "    <tr>\n",
              "      <th>5</th>\n",
              "      <td>6</td>\n",
              "      <td>state</td>\n",
              "      <td>nominal</td>\n",
              "      <td>Indicates to the state and its dependent proto...</td>\n",
              "    </tr>\n",
              "    <tr>\n",
              "      <th>6</th>\n",
              "      <td>7</td>\n",
              "      <td>dur</td>\n",
              "      <td>Float</td>\n",
              "      <td>Record total duration</td>\n",
              "    </tr>\n",
              "    <tr>\n",
              "      <th>7</th>\n",
              "      <td>8</td>\n",
              "      <td>sbytes</td>\n",
              "      <td>Integer</td>\n",
              "      <td>Source to destination transaction bytes</td>\n",
              "    </tr>\n",
              "    <tr>\n",
              "      <th>8</th>\n",
              "      <td>9</td>\n",
              "      <td>dbytes</td>\n",
              "      <td>Integer</td>\n",
              "      <td>Destination to source transaction bytes</td>\n",
              "    </tr>\n",
              "    <tr>\n",
              "      <th>9</th>\n",
              "      <td>10</td>\n",
              "      <td>sttl</td>\n",
              "      <td>Integer</td>\n",
              "      <td>Source to destination time to live value</td>\n",
              "    </tr>\n",
              "    <tr>\n",
              "      <th>10</th>\n",
              "      <td>11</td>\n",
              "      <td>dttl</td>\n",
              "      <td>Integer</td>\n",
              "      <td>Destination to source time to live value</td>\n",
              "    </tr>\n",
              "    <tr>\n",
              "      <th>11</th>\n",
              "      <td>12</td>\n",
              "      <td>sloss</td>\n",
              "      <td>Integer</td>\n",
              "      <td>Source packets retransmitted or dropped</td>\n",
              "    </tr>\n",
              "    <tr>\n",
              "      <th>12</th>\n",
              "      <td>13</td>\n",
              "      <td>dloss</td>\n",
              "      <td>Integer</td>\n",
              "      <td>Destination packets retransmitted or dropped</td>\n",
              "    </tr>\n",
              "    <tr>\n",
              "      <th>13</th>\n",
              "      <td>14</td>\n",
              "      <td>service</td>\n",
              "      <td>nominal</td>\n",
              "      <td>http, ftp, smtp, ssh, dns, ftp-data ,irc  and ...</td>\n",
              "    </tr>\n",
              "    <tr>\n",
              "      <th>14</th>\n",
              "      <td>15</td>\n",
              "      <td>Sload</td>\n",
              "      <td>Float</td>\n",
              "      <td>Source bits per second</td>\n",
              "    </tr>\n",
              "    <tr>\n",
              "      <th>15</th>\n",
              "      <td>16</td>\n",
              "      <td>Dload</td>\n",
              "      <td>Float</td>\n",
              "      <td>Destination bits per second</td>\n",
              "    </tr>\n",
              "    <tr>\n",
              "      <th>16</th>\n",
              "      <td>17</td>\n",
              "      <td>Spkts</td>\n",
              "      <td>integer</td>\n",
              "      <td>Source to destination packet count</td>\n",
              "    </tr>\n",
              "    <tr>\n",
              "      <th>17</th>\n",
              "      <td>18</td>\n",
              "      <td>Dpkts</td>\n",
              "      <td>integer</td>\n",
              "      <td>Destination to source packet count</td>\n",
              "    </tr>\n",
              "    <tr>\n",
              "      <th>18</th>\n",
              "      <td>19</td>\n",
              "      <td>swin</td>\n",
              "      <td>integer</td>\n",
              "      <td>Source TCP window advertisement value</td>\n",
              "    </tr>\n",
              "    <tr>\n",
              "      <th>19</th>\n",
              "      <td>20</td>\n",
              "      <td>dwin</td>\n",
              "      <td>integer</td>\n",
              "      <td>Destination TCP window advertisement value</td>\n",
              "    </tr>\n",
              "    <tr>\n",
              "      <th>20</th>\n",
              "      <td>21</td>\n",
              "      <td>stcpb</td>\n",
              "      <td>integer</td>\n",
              "      <td>Source TCP base sequence number</td>\n",
              "    </tr>\n",
              "    <tr>\n",
              "      <th>21</th>\n",
              "      <td>22</td>\n",
              "      <td>dtcpb</td>\n",
              "      <td>integer</td>\n",
              "      <td>Destination TCP base sequence number</td>\n",
              "    </tr>\n",
              "    <tr>\n",
              "      <th>22</th>\n",
              "      <td>23</td>\n",
              "      <td>smeansz</td>\n",
              "      <td>integer</td>\n",
              "      <td>Mean of the ?ow packet size transmitted by the...</td>\n",
              "    </tr>\n",
              "    <tr>\n",
              "      <th>23</th>\n",
              "      <td>24</td>\n",
              "      <td>dmeansz</td>\n",
              "      <td>integer</td>\n",
              "      <td>Mean of the ?ow packet size transmitted by the...</td>\n",
              "    </tr>\n",
              "    <tr>\n",
              "      <th>24</th>\n",
              "      <td>25</td>\n",
              "      <td>trans_depth</td>\n",
              "      <td>integer</td>\n",
              "      <td>Represents the pipelined depth into the connec...</td>\n",
              "    </tr>\n",
              "    <tr>\n",
              "      <th>25</th>\n",
              "      <td>26</td>\n",
              "      <td>res_bdy_len</td>\n",
              "      <td>integer</td>\n",
              "      <td>Actual uncompressed content size of the data t...</td>\n",
              "    </tr>\n",
              "    <tr>\n",
              "      <th>26</th>\n",
              "      <td>27</td>\n",
              "      <td>Sjit</td>\n",
              "      <td>Float</td>\n",
              "      <td>Source jitter (mSec)</td>\n",
              "    </tr>\n",
              "    <tr>\n",
              "      <th>27</th>\n",
              "      <td>28</td>\n",
              "      <td>Djit</td>\n",
              "      <td>Float</td>\n",
              "      <td>Destination jitter (mSec)</td>\n",
              "    </tr>\n",
              "    <tr>\n",
              "      <th>28</th>\n",
              "      <td>29</td>\n",
              "      <td>Stime</td>\n",
              "      <td>Timestamp</td>\n",
              "      <td>record start time</td>\n",
              "    </tr>\n",
              "    <tr>\n",
              "      <th>29</th>\n",
              "      <td>30</td>\n",
              "      <td>Ltime</td>\n",
              "      <td>Timestamp</td>\n",
              "      <td>record last time</td>\n",
              "    </tr>\n",
              "    <tr>\n",
              "      <th>30</th>\n",
              "      <td>31</td>\n",
              "      <td>Sintpkt</td>\n",
              "      <td>Float</td>\n",
              "      <td>Source interpacket arrival time (mSec)</td>\n",
              "    </tr>\n",
              "    <tr>\n",
              "      <th>31</th>\n",
              "      <td>32</td>\n",
              "      <td>Dintpkt</td>\n",
              "      <td>Float</td>\n",
              "      <td>Destination interpacket arrival time (mSec)</td>\n",
              "    </tr>\n",
              "    <tr>\n",
              "      <th>32</th>\n",
              "      <td>33</td>\n",
              "      <td>tcprtt</td>\n",
              "      <td>Float</td>\n",
              "      <td>TCP connection setup round-trip time, the sum ...</td>\n",
              "    </tr>\n",
              "    <tr>\n",
              "      <th>33</th>\n",
              "      <td>34</td>\n",
              "      <td>synack</td>\n",
              "      <td>Float</td>\n",
              "      <td>TCP connection setup time, the time between th...</td>\n",
              "    </tr>\n",
              "    <tr>\n",
              "      <th>34</th>\n",
              "      <td>35</td>\n",
              "      <td>ackdat</td>\n",
              "      <td>Float</td>\n",
              "      <td>TCP connection setup time, the time between th...</td>\n",
              "    </tr>\n",
              "    <tr>\n",
              "      <th>35</th>\n",
              "      <td>36</td>\n",
              "      <td>is_sm_ips_ports</td>\n",
              "      <td>Binary</td>\n",
              "      <td>If source (1) and destination (3)IP addresses ...</td>\n",
              "    </tr>\n",
              "    <tr>\n",
              "      <th>36</th>\n",
              "      <td>37</td>\n",
              "      <td>ct_state_ttl</td>\n",
              "      <td>Integer</td>\n",
              "      <td>No. for each state (6) according to specific r...</td>\n",
              "    </tr>\n",
              "    <tr>\n",
              "      <th>37</th>\n",
              "      <td>38</td>\n",
              "      <td>ct_flw_http_mthd</td>\n",
              "      <td>Integer</td>\n",
              "      <td>No. of flows that has methods such as Get and ...</td>\n",
              "    </tr>\n",
              "    <tr>\n",
              "      <th>38</th>\n",
              "      <td>39</td>\n",
              "      <td>is_ftp_login</td>\n",
              "      <td>Binary</td>\n",
              "      <td>If the ftp session is accessed by user and pas...</td>\n",
              "    </tr>\n",
              "    <tr>\n",
              "      <th>39</th>\n",
              "      <td>40</td>\n",
              "      <td>ct_ftp_cmd</td>\n",
              "      <td>integer</td>\n",
              "      <td>No of flows that has a command in ftp session.</td>\n",
              "    </tr>\n",
              "    <tr>\n",
              "      <th>40</th>\n",
              "      <td>41</td>\n",
              "      <td>ct_srv_src</td>\n",
              "      <td>integer</td>\n",
              "      <td>No. of connections that contain the same servi...</td>\n",
              "    </tr>\n",
              "    <tr>\n",
              "      <th>41</th>\n",
              "      <td>42</td>\n",
              "      <td>ct_srv_dst</td>\n",
              "      <td>integer</td>\n",
              "      <td>No. of connections that contain the same servi...</td>\n",
              "    </tr>\n",
              "    <tr>\n",
              "      <th>42</th>\n",
              "      <td>43</td>\n",
              "      <td>ct_dst_ltm</td>\n",
              "      <td>integer</td>\n",
              "      <td>No. of connections of the same destination add...</td>\n",
              "    </tr>\n",
              "    <tr>\n",
              "      <th>43</th>\n",
              "      <td>44</td>\n",
              "      <td>ct_src_ ltm</td>\n",
              "      <td>integer</td>\n",
              "      <td>No. of connections of the same source address ...</td>\n",
              "    </tr>\n",
              "    <tr>\n",
              "      <th>44</th>\n",
              "      <td>45</td>\n",
              "      <td>ct_src_dport_ltm</td>\n",
              "      <td>integer</td>\n",
              "      <td>No of connections of the same source address (...</td>\n",
              "    </tr>\n",
              "    <tr>\n",
              "      <th>45</th>\n",
              "      <td>46</td>\n",
              "      <td>ct_dst_sport_ltm</td>\n",
              "      <td>integer</td>\n",
              "      <td>No of connections of the same destination addr...</td>\n",
              "    </tr>\n",
              "    <tr>\n",
              "      <th>46</th>\n",
              "      <td>47</td>\n",
              "      <td>ct_dst_src_ltm</td>\n",
              "      <td>integer</td>\n",
              "      <td>No of connections of the same source (1) and t...</td>\n",
              "    </tr>\n",
              "    <tr>\n",
              "      <th>47</th>\n",
              "      <td>48</td>\n",
              "      <td>attack_cat</td>\n",
              "      <td>nominal</td>\n",
              "      <td>The name of each attack category. In this data...</td>\n",
              "    </tr>\n",
              "    <tr>\n",
              "      <th>48</th>\n",
              "      <td>49</td>\n",
              "      <td>Label</td>\n",
              "      <td>binary</td>\n",
              "      <td>0 for normal and 1 for attack records</td>\n",
              "    </tr>\n",
              "  </tbody>\n",
              "</table>\n",
              "</div>\n",
              "      <button class=\"colab-df-convert\" onclick=\"convertToInteractive('df-7988618c-412a-48bd-903e-8c2592058f63')\"\n",
              "              title=\"Convert this dataframe to an interactive table.\"\n",
              "              style=\"display:none;\">\n",
              "        \n",
              "  <svg xmlns=\"http://www.w3.org/2000/svg\" height=\"24px\"viewBox=\"0 0 24 24\"\n",
              "       width=\"24px\">\n",
              "    <path d=\"M0 0h24v24H0V0z\" fill=\"none\"/>\n",
              "    <path d=\"M18.56 5.44l.94 2.06.94-2.06 2.06-.94-2.06-.94-.94-2.06-.94 2.06-2.06.94zm-11 1L8.5 8.5l.94-2.06 2.06-.94-2.06-.94L8.5 2.5l-.94 2.06-2.06.94zm10 10l.94 2.06.94-2.06 2.06-.94-2.06-.94-.94-2.06-.94 2.06-2.06.94z\"/><path d=\"M17.41 7.96l-1.37-1.37c-.4-.4-.92-.59-1.43-.59-.52 0-1.04.2-1.43.59L10.3 9.45l-7.72 7.72c-.78.78-.78 2.05 0 2.83L4 21.41c.39.39.9.59 1.41.59.51 0 1.02-.2 1.41-.59l7.78-7.78 2.81-2.81c.8-.78.8-2.07 0-2.86zM5.41 20L4 18.59l7.72-7.72 1.47 1.35L5.41 20z\"/>\n",
              "  </svg>\n",
              "      </button>\n",
              "      \n",
              "  <style>\n",
              "    .colab-df-container {\n",
              "      display:flex;\n",
              "      flex-wrap:wrap;\n",
              "      gap: 12px;\n",
              "    }\n",
              "\n",
              "    .colab-df-convert {\n",
              "      background-color: #E8F0FE;\n",
              "      border: none;\n",
              "      border-radius: 50%;\n",
              "      cursor: pointer;\n",
              "      display: none;\n",
              "      fill: #1967D2;\n",
              "      height: 32px;\n",
              "      padding: 0 0 0 0;\n",
              "      width: 32px;\n",
              "    }\n",
              "\n",
              "    .colab-df-convert:hover {\n",
              "      background-color: #E2EBFA;\n",
              "      box-shadow: 0px 1px 2px rgba(60, 64, 67, 0.3), 0px 1px 3px 1px rgba(60, 64, 67, 0.15);\n",
              "      fill: #174EA6;\n",
              "    }\n",
              "\n",
              "    [theme=dark] .colab-df-convert {\n",
              "      background-color: #3B4455;\n",
              "      fill: #D2E3FC;\n",
              "    }\n",
              "\n",
              "    [theme=dark] .colab-df-convert:hover {\n",
              "      background-color: #434B5C;\n",
              "      box-shadow: 0px 1px 3px 1px rgba(0, 0, 0, 0.15);\n",
              "      filter: drop-shadow(0px 1px 2px rgba(0, 0, 0, 0.3));\n",
              "      fill: #FFFFFF;\n",
              "    }\n",
              "  </style>\n",
              "\n",
              "      <script>\n",
              "        const buttonEl =\n",
              "          document.querySelector('#df-7988618c-412a-48bd-903e-8c2592058f63 button.colab-df-convert');\n",
              "        buttonEl.style.display =\n",
              "          google.colab.kernel.accessAllowed ? 'block' : 'none';\n",
              "\n",
              "        async function convertToInteractive(key) {\n",
              "          const element = document.querySelector('#df-7988618c-412a-48bd-903e-8c2592058f63');\n",
              "          const dataTable =\n",
              "            await google.colab.kernel.invokeFunction('convertToInteractive',\n",
              "                                                     [key], {});\n",
              "          if (!dataTable) return;\n",
              "\n",
              "          const docLinkHtml = 'Like what you see? Visit the ' +\n",
              "            '<a target=\"_blank\" href=https://colab.research.google.com/notebooks/data_table.ipynb>data table notebook</a>'\n",
              "            + ' to learn more about interactive tables.';\n",
              "          element.innerHTML = '';\n",
              "          dataTable['output_type'] = 'display_data';\n",
              "          await google.colab.output.renderOutput(dataTable, element);\n",
              "          const docLink = document.createElement('div');\n",
              "          docLink.innerHTML = docLinkHtml;\n",
              "          element.appendChild(docLink);\n",
              "        }\n",
              "      </script>\n",
              "    </div>\n",
              "  </div>\n",
              "  "
            ]
          },
          "metadata": {},
          "execution_count": 8
        }
      ],
      "source": [
        "# Column names and descriptions retrieved from the CSV file\n",
        "# Column names DataFrame:\n",
        "# - Contains index numbers, column names, data types, and descriptions\n",
        "# - Provides details about each column in the dataset\n",
        "# - Useful for understanding the data structure and column content\n",
        "df_col  # DataFrame with column names and descriptions\n"
      ]
    },
    {
      "cell_type": "markdown",
      "source": [
        "\n",
        "**Standardizing Column Names:** We modify the column names in the df_col DataFrame by making them lowercase and removing any leading/trailing spaces. This is achieved by applying a lambda function using the apply() method on the 'Name' column.\n",
        "\n",
        "**Updating DataFrame Columns:** We rename the columns of the all_data DataFrame using the modified column names from df_col. By assigning the modified column names to the columns attribute of the all_data DataFrame, we ensure that the column names are consistent and follow a standardized format.\n",
        "\n",
        "These operations are performed to improve the consistency and readability of the column names in the dataset, facilitating further analysis and processing of the data."
      ],
      "metadata": {
        "id": "vDJQ0L7SPluK"
      }
    },
    {
      "cell_type": "code",
      "execution_count": null,
      "metadata": {
        "id": "2zb0mOheYQW1"
      },
      "outputs": [],
      "source": [
        "# Making column names lower case, removing spaces\n",
        "df_col['Name'] = df_col['Name'].apply(lambda x: x.strip().replace(' ', '').lower())\n",
        "# Renaming our dataframe with proper column names\n",
        "all_data.columns = df_col['Name']"
      ]
    },
    {
      "cell_type": "markdown",
      "source": [
        "**Saving Column Names:** We extract the column names from the df_col DataFrame, excluding the column with the name \"label\". The resulting list of column names is assigned to the saved_dict dictionary with the key \"columns\".\n",
        "\n",
        "\n",
        "**Excluding \"label\" Column:** We filter out the column name \"label\" from the list using the condition df_col['Name'] != 'label' to ensure it is not included in the final list of column names.\n",
        "\n",
        "\n",
        "This code allows us to store the list of column names, excluding the \"label\" column, in the saved_dict dictionary for future use in the code."
      ],
      "metadata": {
        "id": "2BeyjJo5QGci"
      }
    },
    {
      "cell_type": "code",
      "execution_count": null,
      "metadata": {
        "id": "_QYQD2LWaGu9"
      },
      "outputs": [],
      "source": [
        "saved_dict['columns'] = df_col['Name'][df_col['Name']!='label'].tolist()"
      ]
    },
    {
      "cell_type": "code",
      "execution_count": null,
      "metadata": {
        "colab": {
          "base_uri": "https://localhost:8080/"
        },
        "id": "uXEJCXJsaXHy",
        "outputId": "f5f51867-ab49-48f4-92ef-d81b03be1de4"
      },
      "outputs": [
        {
          "output_type": "execute_result",
          "data": {
            "text/plain": [
              "(2540047, 49)"
            ]
          },
          "metadata": {},
          "execution_count": 11
        }
      ],
      "source": [
        "# Delete the df_col DataFrame from memory\n",
        "del df_col\n",
        "# Retrieve the dimensions of the all_data DataFrame\n",
        "all_data.shape"
      ]
    },
    {
      "cell_type": "markdown",
      "metadata": {
        "id": "8MKvD9Y_amoc"
      },
      "source": [
        "# Data cleaning and preprocessing"
      ]
    },
    {
      "cell_type": "markdown",
      "source": [
        "**Counting Missing Values:** We use the isnull() function to identify missing values in the all_data DataFrame. The resulting Boolean DataFrame indicates whether each element is null or not.\n",
        "\n",
        "\n",
        "**Summing Missing Values:** We apply the sum() function to the Boolean DataFrame to calculate the number of missing values in each column. This provides a count of the missing values present in each column of the DataFrame.\n",
        "\n",
        "\n",
        "By executing this code, we can identify and understand the distribution of missing values across different columns in the all_data DataFrame."
      ],
      "metadata": {
        "id": "bS8b7snMQsVi"
      }
    },
    {
      "cell_type": "code",
      "execution_count": null,
      "metadata": {
        "colab": {
          "base_uri": "https://localhost:8080/"
        },
        "id": "524fxHWsbJ6z",
        "outputId": "9ac15c01-6e2e-48a8-dd8c-70fca0148d66"
      },
      "outputs": [
        {
          "output_type": "execute_result",
          "data": {
            "text/plain": [
              "Name\n",
              "srcip                     0\n",
              "sport                     0\n",
              "dstip                     0\n",
              "dsport                    0\n",
              "proto                     0\n",
              "state                     0\n",
              "dur                       0\n",
              "sbytes                    0\n",
              "dbytes                    0\n",
              "sttl                      0\n",
              "dttl                      0\n",
              "sloss                     0\n",
              "dloss                     0\n",
              "service                   0\n",
              "sload                     0\n",
              "dload                     0\n",
              "spkts                     0\n",
              "dpkts                     0\n",
              "swin                      0\n",
              "dwin                      0\n",
              "stcpb                     0\n",
              "dtcpb                     0\n",
              "smeansz                   0\n",
              "dmeansz                   0\n",
              "trans_depth               0\n",
              "res_bdy_len               0\n",
              "sjit                      0\n",
              "djit                      0\n",
              "stime                     0\n",
              "ltime                     0\n",
              "sintpkt                   0\n",
              "dintpkt                   0\n",
              "tcprtt                    0\n",
              "synack                    0\n",
              "ackdat                    0\n",
              "is_sm_ips_ports           0\n",
              "ct_state_ttl              0\n",
              "ct_flw_http_mthd    1348145\n",
              "is_ftp_login        1429879\n",
              "ct_ftp_cmd                0\n",
              "ct_srv_src                0\n",
              "ct_srv_dst                0\n",
              "ct_dst_ltm                0\n",
              "ct_src_ltm                0\n",
              "ct_src_dport_ltm          0\n",
              "ct_dst_sport_ltm          0\n",
              "ct_dst_src_ltm            0\n",
              "attack_cat          2218764\n",
              "label                     0\n",
              "dtype: int64"
            ]
          },
          "metadata": {},
          "execution_count": 12
        }
      ],
      "source": [
        "all_data.isnull().sum()"
      ]
    },
    {
      "cell_type": "markdown",
      "source": [
        "**Counting Unique Values:** We access the 'attack_cat' column of the DataFrame all_data and use the value_counts() method. This method counts the occurrences of each unique value in the column.\n",
        "\n",
        "\n",
        "**Attack Category Distribution:** The resulting output provides a count of occurrences for each unique value in the 'attack_cat' column. This helps us understand the distribution of different attack categories present in the dataset.\n",
        "\n",
        "\n",
        "By running this code, we can obtain insights into the frequency of different attack categories and their relative representation in the 'attack_cat' column of the all_data DataFrame."
      ],
      "metadata": {
        "id": "QzV2-SLBQ7I9"
      }
    },
    {
      "cell_type": "code",
      "execution_count": null,
      "metadata": {
        "colab": {
          "base_uri": "https://localhost:8080/"
        },
        "id": "4pQfQWGgbvKT",
        "outputId": "42a22776-605a-408e-ada7-4f872f8f4be0"
      },
      "outputs": [
        {
          "output_type": "execute_result",
          "data": {
            "text/plain": [
              "Generic             215481\n",
              "Exploits             44525\n",
              " Fuzzers             19195\n",
              "DoS                  16353\n",
              " Reconnaissance      12228\n",
              " Fuzzers              5051\n",
              "Analysis              2677\n",
              "Backdoor              1795\n",
              "Reconnaissance        1759\n",
              " Shellcode            1288\n",
              "Backdoors              534\n",
              "Shellcode              223\n",
              "Worms                  174\n",
              "Name: attack_cat, dtype: int64"
            ]
          },
          "metadata": {},
          "execution_count": 13
        }
      ],
      "source": [
        "all_data['attack_cat'].value_counts()"
      ]
    },
    {
      "cell_type": "markdown",
      "source": [
        "Handling Missing Values: We fill the missing values in the 'attack_cat' column of the DataFrame all_data with the value 'normal'. This is done using the fillna() method.\n",
        "\n",
        "\n",
        "Standardizing Values: We apply a lambda function using the apply() method to each element in the 'attack_cat' column. The lambda function removes leading/trailing spaces and converts the values to lowercase.\n",
        "\n",
        "\n",
        "Updated 'attack_cat' Column: The modified values are assigned back to the 'attack_cat' column of all_data, overwriting the original values.\n",
        "\n",
        "\n",
        "By executing this code, we handle missing values in the 'attack_cat' column by replacing them with the value 'normal'. We also ensure consistency by removing leading/trailing spaces and converting the values to lowercase. This preprocessing step prepares the 'attack_cat' column for further modeling tasks."
      ],
      "metadata": {
        "id": "TBGiNiw6RRBd"
      }
    },
    {
      "cell_type": "code",
      "execution_count": null,
      "metadata": {
        "id": "snmLqbNybwDk"
      },
      "outputs": [],
      "source": [
        "all_data['attack_cat'] = all_data.attack_cat.fillna(value='normal').apply(lambda x: x.strip().lower())"
      ]
    },
    {
      "cell_type": "code",
      "execution_count": null,
      "metadata": {
        "colab": {
          "base_uri": "https://localhost:8080/"
        },
        "id": "n7ZlR-LRcCJE",
        "outputId": "64cb702e-4b7b-4b9e-830c-2967b28b1bdc"
      },
      "outputs": [
        {
          "output_type": "execute_result",
          "data": {
            "text/plain": [
              "normal            2218764\n",
              "generic            215481\n",
              "exploits            44525\n",
              "fuzzers             24246\n",
              "dos                 16353\n",
              "reconnaissance      13987\n",
              "analysis             2677\n",
              "backdoor             1795\n",
              "shellcode            1511\n",
              "backdoors             534\n",
              "worms                 174\n",
              "Name: attack_cat, dtype: int64"
            ]
          },
          "metadata": {},
          "execution_count": 15
        }
      ],
      "source": [
        "all_data['attack_cat'].value_counts()"
      ]
    },
    {
      "cell_type": "markdown",
      "source": [
        " The resulting output provides a count of occurrences for each unique value in the 'ct_flw_http_mthd' column. This helps us understand the distribution of different HTTP methods present in the dataset."
      ],
      "metadata": {
        "id": "G6g6GdwCUP0W"
      }
    },
    {
      "cell_type": "code",
      "execution_count": null,
      "metadata": {
        "colab": {
          "base_uri": "https://localhost:8080/"
        },
        "id": "EnneNPgq7AHR",
        "outputId": "6ceaa71a-4dc8-43fb-a8f0-344af9bfa1d8"
      },
      "outputs": [
        {
          "output_type": "execute_result",
          "data": {
            "text/plain": [
              "0.0     986791\n",
              "1.0     188008\n",
              "6.0       7902\n",
              "4.0       6564\n",
              "3.0        738\n",
              "2.0        588\n",
              "5.0        430\n",
              "9.0        270\n",
              "14.0       224\n",
              "12.0       132\n",
              "30.0        60\n",
              "8.0         56\n",
              "16.0        48\n",
              "36.0        36\n",
              "10.0        30\n",
              "25.0        25\n",
              "Name: ct_flw_http_mthd, dtype: int64"
            ]
          },
          "metadata": {},
          "execution_count": 16
        }
      ],
      "source": [
        "all_data[\"ct_flw_http_mthd\"].value_counts()"
      ]
    },
    {
      "cell_type": "markdown",
      "source": [],
      "metadata": {
        "id": "jg-39DewUtaE"
      }
    },
    {
      "cell_type": "markdown",
      "source": [
        "**Handling Missing Values:** We fill the missing values in the 'ct_flw_http_mthd' column of the DataFrame all_data with the value 0 using the fillna() method.\n",
        "\n",
        "**Updated 'ct_flw_http_mthd' Column:** The modified values are assigned back to the 'ct_flw_http_mthd' column of all_data, replacing the missing values with 0.\n",
        "\n",
        "By executing this code, we handle missing values in the 'ct_flw_http_mthd' column by replacing them with 0. This ensures that the column contains valid values for further modeling tasks."
      ],
      "metadata": {
        "id": "Egribpd5Uu9V"
      }
    },
    {
      "cell_type": "code",
      "execution_count": null,
      "metadata": {
        "id": "CxrgPYy9cc9U"
      },
      "outputs": [],
      "source": [
        "all_data['ct_flw_http_mthd'] = all_data.ct_flw_http_mthd.fillna(value=0)\n",
        "all_data['ct_flw_http_mthd']=all_data.ct_flw_http_mthd.fillna(value=0)"
      ]
    },
    {
      "cell_type": "markdown",
      "source": [
        " The resulting output provides a count of occurrences for each unique value in the 'is_ftp_login' column. This helps us understand the distribution of different values present in the column."
      ],
      "metadata": {
        "id": "MGnf2QVWU6g9"
      }
    },
    {
      "cell_type": "code",
      "execution_count": null,
      "metadata": {
        "colab": {
          "base_uri": "https://localhost:8080/"
        },
        "id": "n5qQ6E6Hcers",
        "outputId": "1d6a3a2f-9a4e-4979-dfd3-5a269a6c9b30"
      },
      "outputs": [
        {
          "output_type": "execute_result",
          "data": {
            "text/plain": [
              "0.0    1066593\n",
              "1.0      43389\n",
              "4.0        156\n",
              "2.0         30\n",
              "Name: is_ftp_login, dtype: int64"
            ]
          },
          "metadata": {},
          "execution_count": 18
        }
      ],
      "source": [
        "all_data['is_ftp_login'].value_counts()"
      ]
    },
    {
      "cell_type": "markdown",
      "source": [
        "we handle missing values in the 'is_ftp_login' column by replacing them with 0 and convert the column's data type to integer. This ensures consistency and prepares the 'is_ftp_login' column for further modeling tasks."
      ],
      "metadata": {
        "id": "VzCMPxUEVGUy"
      }
    },
    {
      "cell_type": "code",
      "execution_count": null,
      "metadata": {
        "id": "Uwhhl2M6ciqe"
      },
      "outputs": [],
      "source": [
        "all_data['is_ftp_login'] = (all_data.is_ftp_login.fillna(value=0)).astype(int)"
      ]
    },
    {
      "cell_type": "code",
      "execution_count": null,
      "metadata": {
        "colab": {
          "base_uri": "https://localhost:8080/"
        },
        "id": "kJiKiI8Eckyz",
        "outputId": "4cbefc2c-d4e4-4ee6-894c-de799fcb2d3e"
      },
      "outputs": [
        {
          "output_type": "execute_result",
          "data": {
            "text/plain": [
              "0"
            ]
          },
          "metadata": {},
          "execution_count": 20
        }
      ],
      "source": [
        "all_data.isnull().sum().sum()"
      ]
    },
    {
      "cell_type": "markdown",
      "metadata": {
        "id": "GdKxrFYYdAD0"
      },
      "source": [
        "# Information about datatest"
      ]
    },
    {
      "cell_type": "code",
      "execution_count": null,
      "metadata": {
        "colab": {
          "base_uri": "https://localhost:8080/"
        },
        "id": "T-saInipdIej",
        "outputId": "f2b6e5c2-2f53-4527-aae5-de928e8b710d"
      },
      "outputs": [
        {
          "output_type": "execute_result",
          "data": {
            "text/plain": [
              "Index(['srcip', 'sport', 'dstip', 'dsport', 'proto', 'state', 'dur', 'sbytes',\n",
              "       'dbytes', 'sttl', 'dttl', 'sloss', 'dloss', 'service', 'sload', 'dload',\n",
              "       'spkts', 'dpkts', 'swin', 'dwin', 'stcpb', 'dtcpb', 'smeansz',\n",
              "       'dmeansz', 'trans_depth', 'res_bdy_len', 'sjit', 'djit', 'stime',\n",
              "       'ltime', 'sintpkt', 'dintpkt', 'tcprtt', 'synack', 'ackdat',\n",
              "       'is_sm_ips_ports', 'ct_state_ttl', 'ct_flw_http_mthd', 'is_ftp_login',\n",
              "       'ct_ftp_cmd', 'ct_srv_src', 'ct_srv_dst', 'ct_dst_ltm', 'ct_src_ltm',\n",
              "       'ct_src_dport_ltm', 'ct_dst_sport_ltm', 'ct_dst_src_ltm', 'attack_cat',\n",
              "       'label'],\n",
              "      dtype='object', name='Name')"
            ]
          },
          "metadata": {},
          "execution_count": 21
        }
      ],
      "source": [
        "all_data.columns"
      ]
    },
    {
      "cell_type": "code",
      "execution_count": null,
      "metadata": {
        "colab": {
          "base_uri": "https://localhost:8080/"
        },
        "id": "GCw1BQeleljT",
        "outputId": "d5d4e9ef-44bc-46d6-ae61-0639453c86c2"
      },
      "outputs": [
        {
          "output_type": "execute_result",
          "data": {
            "text/plain": [
              "int64      29\n",
              "float64    11\n",
              "object      9\n",
              "dtype: int64"
            ]
          },
          "metadata": {},
          "execution_count": 22
        }
      ],
      "source": [
        "all_data.dtypes.value_counts()"
      ]
    },
    {
      "cell_type": "code",
      "execution_count": null,
      "metadata": {
        "colab": {
          "base_uri": "https://localhost:8080/"
        },
        "id": "XTdX2m_PeteD",
        "outputId": "837ec50f-456a-4dbd-cbda-e6092fa9e438"
      },
      "outputs": [
        {
          "output_type": "execute_result",
          "data": {
            "text/plain": [
              "Index(['srcip', 'sport', 'dstip', 'dsport', 'proto', 'state', 'service',\n",
              "       'ct_ftp_cmd', 'attack_cat'],\n",
              "      dtype='object', name='Name')"
            ]
          },
          "metadata": {},
          "execution_count": 23
        }
      ],
      "source": [
        "all_data.select_dtypes(exclude=np.number).columns"
      ]
    },
    {
      "cell_type": "code",
      "execution_count": null,
      "metadata": {
        "colab": {
          "base_uri": "https://localhost:8080/"
        },
        "id": "d2BT3TTMe6js",
        "outputId": "616b5248-1c5c-4237-f6fa-620c03910837"
      },
      "outputs": [
        {
          "output_type": "execute_result",
          "data": {
            "text/plain": [
              "array([0, 1, 6, 2, 4, 8, 5, 3, '0', '1', ' ', '2', '4'], dtype=object)"
            ]
          },
          "metadata": {},
          "execution_count": 24
        }
      ],
      "source": [
        "all_data['ct_ftp_cmd'].unique()"
      ]
    },
    {
      "cell_type": "markdown",
      "source": [
        "we replace any space characters in the 'ct_ftp_cmd' column with the value \"0\" and convert the column's data type to integer. "
      ],
      "metadata": {
        "id": "k56-BKEnV0I0"
      }
    },
    {
      "cell_type": "code",
      "execution_count": null,
      "metadata": {
        "id": "GKEL7dY-fE6H"
      },
      "outputs": [],
      "source": [
        "all_data[\"ct_ftp_cmd\"]=all_data[\"ct_ftp_cmd\"].replace(to_replace=\" \",value=\"0\").astype(int)"
      ]
    },
    {
      "cell_type": "code",
      "source": [
        "all_data[\"ct_ftp_cmd\"]=all_data[\"ct_ftp_cmd\"].replace(to_replace=\" \",value=\"0\").astype(int)"
      ],
      "metadata": {
        "id": "MuSgETvbxbBS"
      },
      "execution_count": null,
      "outputs": []
    },
    {
      "cell_type": "code",
      "execution_count": null,
      "metadata": {
        "colab": {
          "base_uri": "https://localhost:8080/"
        },
        "id": "c2EftF9W8Ejw",
        "outputId": "80e9e61e-ca8a-4d9c-dc3e-9b6c1e91d520"
      },
      "outputs": [
        {
          "output_type": "execute_result",
          "data": {
            "text/plain": [
              "0    2496377\n",
              "1      40077\n",
              "2       1264\n",
              "4        960\n",
              "3        729\n",
              "6        332\n",
              "5        290\n",
              "8         18\n",
              "Name: ct_ftp_cmd, dtype: int64"
            ]
          },
          "metadata": {},
          "execution_count": 27
        }
      ],
      "source": [
        "all_data.ct_ftp_cmd.value_counts()"
      ]
    },
    {
      "cell_type": "code",
      "execution_count": null,
      "metadata": {
        "colab": {
          "base_uri": "https://localhost:8080/"
        },
        "id": "c8vP2MThgCAb",
        "outputId": "7ae1256c-e40d-4a44-aee8-c8becc904a76"
      },
      "outputs": [
        {
          "output_type": "execute_result",
          "data": {
            "text/plain": [
              "Index(['dur', 'sbytes', 'dbytes', 'sttl', 'dttl', 'sloss', 'dloss', 'sload',\n",
              "       'dload', 'spkts', 'dpkts', 'swin', 'dwin', 'stcpb', 'dtcpb', 'smeansz',\n",
              "       'dmeansz', 'trans_depth', 'res_bdy_len', 'sjit', 'djit', 'stime',\n",
              "       'ltime', 'sintpkt', 'dintpkt', 'tcprtt', 'synack', 'ackdat',\n",
              "       'is_sm_ips_ports', 'ct_state_ttl', 'ct_flw_http_mthd', 'is_ftp_login',\n",
              "       'ct_ftp_cmd', 'ct_srv_src', 'ct_srv_dst', 'ct_dst_ltm', 'ct_src_ltm',\n",
              "       'ct_src_dport_ltm', 'ct_dst_sport_ltm', 'ct_dst_src_ltm', 'label'],\n",
              "      dtype='object', name='Name')"
            ]
          },
          "metadata": {},
          "execution_count": 28
        }
      ],
      "source": [
        "all_data.select_dtypes(include=np.number).columns"
      ]
    },
    {
      "cell_type": "code",
      "execution_count": null,
      "metadata": {
        "id": "2G4Ot7cvgPzX"
      },
      "outputs": [],
      "source": [
        "saved_dict['binary_col'] = ['is_sm_ips_ports', 'is_ftp_login']"
      ]
    },
    {
      "cell_type": "code",
      "execution_count": null,
      "metadata": {
        "colab": {
          "base_uri": "https://localhost:8080/"
        },
        "id": "cdfuYTc_gn5g",
        "outputId": "f3952130-c129-470d-b84a-26a5a3d2dc1b"
      },
      "outputs": [
        {
          "output_type": "stream",
          "name": "stdout",
          "text": [
            "0    2535852\n",
            "1       4195\n",
            "Name: is_sm_ips_ports, dtype: int64\n",
            "\n",
            "0    2496472\n",
            "1      43389\n",
            "4        156\n",
            "2         30\n",
            "Name: is_ftp_login, dtype: int64\n",
            "\n"
          ]
        }
      ],
      "source": [
        "for col in 'is_sm_ips_ports', 'is_ftp_login':\n",
        "    print(all_data[col].value_counts())\n",
        "    print()"
      ]
    },
    {
      "cell_type": "markdown",
      "source": [
        "we modify the values in the 'is_ftp_login' column. If a value is greater than 1, it is replaced with 1. This operation ensures that all values in the 'is_ftp_login' column are either 0 or 1, based on the condition specified."
      ],
      "metadata": {
        "id": "SxZ7gmErWEcu"
      }
    },
    {
      "cell_type": "code",
      "execution_count": null,
      "metadata": {
        "colab": {
          "base_uri": "https://localhost:8080/"
        },
        "id": "nPw5lH-IgrWD",
        "outputId": "e5d5b348-0359-415f-c6d9-8723ed880f55"
      },
      "outputs": [
        {
          "output_type": "execute_result",
          "data": {
            "text/plain": [
              "0    2496472\n",
              "1      43575\n",
              "Name: is_ftp_login, dtype: int64"
            ]
          },
          "metadata": {},
          "execution_count": 31
        }
      ],
      "source": [
        "all_data['is_ftp_login'] = np.where(all_data['is_ftp_login']>1, 1, all_data['is_ftp_login'])\n",
        "all_data['is_ftp_login'].value_counts()"
      ]
    },
    {
      "cell_type": "code",
      "execution_count": null,
      "metadata": {
        "colab": {
          "base_uri": "https://localhost:8080/"
        },
        "id": "Qesmf1oShAwM",
        "outputId": "27b203af-3864-4765-b26e-e8972c12116f"
      },
      "outputs": [
        {
          "output_type": "execute_result",
          "data": {
            "text/plain": [
              "-           1246397\n",
              "dns          781668\n",
              "http         206273\n",
              "ftp-data     125783\n",
              "smtp          81645\n",
              "ftp           49090\n",
              "ssh           47160\n",
              "pop3           1533\n",
              "dhcp            172\n",
              "ssl             142\n",
              "snmp            113\n",
              "radius           40\n",
              "irc              31\n",
              "Name: service, dtype: int64"
            ]
          },
          "metadata": {},
          "execution_count": 32
        }
      ],
      "source": [
        "all_data['service'].value_counts()"
      ]
    },
    {
      "cell_type": "markdown",
      "source": [
        "we modify the values in the 'service' column. Any occurrence of \"-\" is replaced with the string \"None\". This operation ensures consistency and handles missing or undefined values in the 'service' column"
      ],
      "metadata": {
        "id": "dByp5j7dWNv6"
      }
    },
    {
      "cell_type": "code",
      "execution_count": null,
      "metadata": {
        "id": "_PE4JyaYhBcU"
      },
      "outputs": [],
      "source": [
        "all_data['service'] = all_data['service'].apply(lambda x:\"None\" if x==\"-\" else x)"
      ]
    },
    {
      "cell_type": "code",
      "execution_count": null,
      "metadata": {
        "colab": {
          "base_uri": "https://localhost:8080/"
        },
        "id": "ww_kV7CIhIUU",
        "outputId": "d62dbc64-cbb1-47af-e2ab-9a2eaad97272"
      },
      "outputs": [
        {
          "output_type": "execute_result",
          "data": {
            "text/plain": [
              "None        1246397\n",
              "dns          781668\n",
              "http         206273\n",
              "ftp-data     125783\n",
              "smtp          81645\n",
              "ftp           49090\n",
              "ssh           47160\n",
              "pop3           1533\n",
              "dhcp            172\n",
              "ssl             142\n",
              "snmp            113\n",
              "radius           40\n",
              "irc              31\n",
              "Name: service, dtype: int64"
            ]
          },
          "metadata": {},
          "execution_count": 34
        }
      ],
      "source": [
        "all_data['service'].value_counts()"
      ]
    },
    {
      "cell_type": "code",
      "execution_count": null,
      "metadata": {
        "colab": {
          "base_uri": "https://localhost:8080/"
        },
        "id": "eVQpowLThOVi",
        "outputId": "a86ef52b-086f-495e-a375-3d2b02dad917"
      },
      "outputs": [
        {
          "output_type": "execute_result",
          "data": {
            "text/plain": [
              "11"
            ]
          },
          "metadata": {},
          "execution_count": 35
        }
      ],
      "source": [
        "all_data['attack_cat'].nunique()"
      ]
    },
    {
      "cell_type": "code",
      "execution_count": null,
      "metadata": {
        "colab": {
          "base_uri": "https://localhost:8080/"
        },
        "id": "rmjbaT4rhPrR",
        "outputId": "103aa13e-d423-4e12-a8cc-a98175be008b"
      },
      "outputs": [
        {
          "output_type": "execute_result",
          "data": {
            "text/plain": [
              "normal            2218764\n",
              "generic            215481\n",
              "exploits            44525\n",
              "fuzzers             24246\n",
              "dos                 16353\n",
              "reconnaissance      13987\n",
              "analysis             2677\n",
              "backdoor             1795\n",
              "shellcode            1511\n",
              "backdoors             534\n",
              "worms                 174\n",
              "Name: attack_cat, dtype: int64"
            ]
          },
          "metadata": {},
          "execution_count": 36
        }
      ],
      "source": [
        "all_data['attack_cat'].value_counts()"
      ]
    },
    {
      "cell_type": "markdown",
      "source": [
        "we modify the values in the 'attack_cat' column. The string 'backdoors' is replaced with 'backdoor', ensuring consistency in the attack category labels. Additionally, the values in the 'attack_cat' column are transformed to lowercase and stripped of any leading or trailing whitespaces. "
      ],
      "metadata": {
        "id": "GtnP95hFWZov"
      }
    },
    {
      "cell_type": "code",
      "execution_count": null,
      "metadata": {
        "id": "vuNbbQ1ihXcr"
      },
      "outputs": [],
      "source": [
        "all_data['attack_cat'] = all_data['attack_cat'].replace('backdoors','backdoor', regex=True).apply(lambda x: x.strip().lower())"
      ]
    },
    {
      "cell_type": "code",
      "execution_count": null,
      "metadata": {
        "colab": {
          "base_uri": "https://localhost:8080/"
        },
        "id": "fBXDirK79BaZ",
        "outputId": "fb1d3944-f963-45cf-ac79-7df147e06107"
      },
      "outputs": [
        {
          "output_type": "execute_result",
          "data": {
            "text/plain": [
              "normal            2218764\n",
              "generic            215481\n",
              "exploits            44525\n",
              "fuzzers             24246\n",
              "dos                 16353\n",
              "reconnaissance      13987\n",
              "analysis             2677\n",
              "backdoor             2329\n",
              "shellcode            1511\n",
              "worms                 174\n",
              "Name: attack_cat, dtype: int64"
            ]
          },
          "metadata": {},
          "execution_count": 39
        }
      ],
      "source": [
        "all_data[\"attack_cat\"].value_counts()"
      ]
    },
    {
      "cell_type": "markdown",
      "source": [
        "we split the data in all_data into a training set (train) and a test set (test). The training set contains 40% of the data, while the test set contains 60% of the data. "
      ],
      "metadata": {
        "id": "teCDmpEFXMsY"
      }
    },
    {
      "cell_type": "code",
      "source": [
        "train, test = train_test_split(all_data, test_size=0.6, random_state=16)"
      ],
      "metadata": {
        "id": "OvzEuxytj3Bi"
      },
      "execution_count": null,
      "outputs": []
    },
    {
      "cell_type": "code",
      "source": [
        "train[\"attack_cat\"].value_counts()"
      ],
      "metadata": {
        "colab": {
          "base_uri": "https://localhost:8080/"
        },
        "id": "qvbUUV_Uk_86",
        "outputId": "f09771ce-5c1e-497c-90b2-d0338d85352b"
      },
      "execution_count": null,
      "outputs": [
        {
          "output_type": "execute_result",
          "data": {
            "text/plain": [
              "normal            887702\n",
              "generic            86054\n",
              "exploits           17943\n",
              "fuzzers             9623\n",
              "dos                 6579\n",
              "reconnaissance      5490\n",
              "analysis            1049\n",
              "backdoor             901\n",
              "shellcode            609\n",
              "worms                 68\n",
              "Name: attack_cat, dtype: int64"
            ]
          },
          "metadata": {},
          "execution_count": 56
        }
      ]
    },
    {
      "cell_type": "code",
      "source": [
        "train.shape"
      ],
      "metadata": {
        "colab": {
          "base_uri": "https://localhost:8080/"
        },
        "id": "VuKyGjpbkhPP",
        "outputId": "b5ef2463-0ca7-4276-85e8-4f2ffe8c2a53"
      },
      "execution_count": null,
      "outputs": [
        {
          "output_type": "execute_result",
          "data": {
            "text/plain": [
              "(1016018, 49)"
            ]
          },
          "metadata": {},
          "execution_count": 57
        }
      ]
    },
    {
      "cell_type": "markdown",
      "source": [
        "the \"attack_cat\" and \"label\" columns are removed from the test DataFrame. This operation is done to prepare the test data for prediction, as the target labels (\"attack_cat\" and \"label\") are not available during inference."
      ],
      "metadata": {
        "id": "CwSLscqgXasT"
      }
    },
    {
      "cell_type": "code",
      "source": [
        "test=test.drop([\"attack_cat\",\"label\"],axis=1)"
      ],
      "metadata": {
        "id": "8aNK8ZnQu8HV"
      },
      "execution_count": null,
      "outputs": []
    },
    {
      "cell_type": "code",
      "source": [
        "test.columns"
      ],
      "metadata": {
        "colab": {
          "base_uri": "https://localhost:8080/"
        },
        "id": "gA0r9nfnvM9W",
        "outputId": "39c05e48-04f0-41c1-bda9-6bf2dedaa5a4"
      },
      "execution_count": null,
      "outputs": [
        {
          "output_type": "execute_result",
          "data": {
            "text/plain": [
              "Index(['srcip', 'sport', 'dstip', 'dsport', 'proto', 'state', 'dur', 'sbytes',\n",
              "       'dbytes', 'sttl', 'dttl', 'sloss', 'dloss', 'service', 'sload', 'dload',\n",
              "       'spkts', 'dpkts', 'swin', 'dwin', 'stcpb', 'dtcpb', 'smeansz',\n",
              "       'dmeansz', 'trans_depth', 'res_bdy_len', 'sjit', 'djit', 'stime',\n",
              "       'ltime', 'sintpkt', 'dintpkt', 'tcprtt', 'synack', 'ackdat',\n",
              "       'is_sm_ips_ports', 'ct_state_ttl', 'ct_flw_http_mthd', 'is_ftp_login',\n",
              "       'ct_ftp_cmd', 'ct_srv_src', 'ct_srv_dst', 'ct_dst_ltm', 'ct_src_ltm',\n",
              "       'ct_src_dport_ltm', 'ct_dst_sport_ltm', 'ct_dst_src_ltm'],\n",
              "      dtype='object', name='Name')"
            ]
          },
          "metadata": {},
          "execution_count": 65
        }
      ]
    },
    {
      "cell_type": "code",
      "execution_count": null,
      "metadata": {
        "id": "EjdA9lQFhg2h"
      },
      "outputs": [],
      "source": [
        "#train.to_csv('/content/drive/MyDrive/PPP/IDS_DATASET/train_alldata_EDA.csv', index=False)\n",
        "test.to_csv('/content/drive/MyDrive/PPP/IDS_DATASET/test_alldata_EDA.csv', index=False)"
      ]
    },
    {
      "cell_type": "code",
      "execution_count": null,
      "metadata": {
        "colab": {
          "base_uri": "https://localhost:8080/"
        },
        "id": "1C8H9y8h9LuG",
        "outputId": "c7a1c9f0-ceac-43cf-bf84-03a19a73af86"
      },
      "outputs": [
        {
          "output_type": "execute_result",
          "data": {
            "text/plain": [
              "(1016018, 49)"
            ]
          },
          "metadata": {},
          "execution_count": 59
        }
      ],
      "source": [
        "train.shape"
      ]
    },
    {
      "cell_type": "code",
      "execution_count": null,
      "metadata": {
        "colab": {
          "base_uri": "https://localhost:8080/"
        },
        "id": "5sd_hPqF9RQI",
        "outputId": "6582e8d2-8649-48e1-f6cf-f51e4304857d"
      },
      "outputs": [
        {
          "output_type": "execute_result",
          "data": {
            "text/plain": [
              "(1524029, 49)"
            ]
          },
          "metadata": {},
          "execution_count": 60
        }
      ],
      "source": [
        "test.shape"
      ]
    },
    {
      "cell_type": "code",
      "execution_count": null,
      "metadata": {
        "id": "CnkMh0cq9XkJ"
      },
      "outputs": [],
      "source": [
        "pickle.dump(saved_dict, open('/content/drive/MyDrive/PPP/IDS_DATASET/saved_dict', 'wb'))"
      ]
    },
    {
      "cell_type": "code",
      "source": [
        "del all_data"
      ],
      "metadata": {
        "id": "nQhENuOclPPI"
      },
      "execution_count": null,
      "outputs": []
    }
  ],
  "metadata": {
    "colab": {
      "provenance": []
    },
    "gpuClass": "standard",
    "kernelspec": {
      "display_name": "Python 3",
      "name": "python3"
    },
    "language_info": {
      "name": "python"
    }
  },
  "nbformat": 4,
  "nbformat_minor": 0
}